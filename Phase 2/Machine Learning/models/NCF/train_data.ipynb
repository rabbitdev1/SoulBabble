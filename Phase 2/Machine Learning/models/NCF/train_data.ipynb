{
 "cells": [
  {
   "cell_type": "code",
   "execution_count": 128,
   "metadata": {},
   "outputs": [],
   "source": [
    "import numpy as np\n",
    "import pandas as pd\n",
    "import json\n",
    "import matplotlib.pyplot as plt\n",
    "import logging\n",
    "import seaborn as sns\n",
    "from sklearn.preprocessing import LabelEncoder\n",
    "from IPython.display import display\n",
    "import random\n"
   ]
  },
  {
   "cell_type": "code",
   "execution_count": 129,
   "metadata": {},
   "outputs": [],
   "source": [
    "# Konfigurasi dasar logging\n",
    "logging.basicConfig(\n",
    "    level=logging.INFO,\n",
    "    format='%(asctime)s - %(levelname)s - %(message)s',\n",
    "    handlers=[\n",
    "        logging.FileHandler(\"recommendation_system.log\"),\n",
    "        logging.StreamHandler()\n",
    "    ]\n",
    ")\n",
    "logger = logging.getLogger()\n"
   ]
  },
  {
   "cell_type": "code",
   "execution_count": 130,
   "metadata": {},
   "outputs": [
    {
     "name": "stderr",
     "output_type": "stream",
     "text": [
      "2025-01-12 17:39:00,377 - INFO - Dataset berhasil dimuat.\n"
     ]
    }
   ],
   "source": [
    "# Membaca dataset\n",
    "try:\n",
    "    with open(\"./dataset.JSON\", 'r', encoding='utf-8') as file:\n",
    "        data = json.load(file)\n",
    "    logger.info(\"Dataset berhasil dimuat.\")\n",
    "except Exception as e:\n",
    "    logger.error(f\"Error saat memuat dataset: {e}\")\n",
    "    raise e\n"
   ]
  },
  {
   "cell_type": "code",
   "execution_count": 131,
   "metadata": {},
   "outputs": [
    {
     "name": "stderr",
     "output_type": "stream",
     "text": [
      "2025-01-12 17:39:00,387 - INFO - Item titles berhasil di-encode.\n"
     ]
    }
   ],
   "source": [
    "# Inisialisasi LabelEncoder untuk item titles\n",
    "item_encoder = LabelEncoder()\n",
    "\n",
    "# Kumpulkan semua item titles untuk encoding\n",
    "all_item_titles = []\n",
    "for entry in data:\n",
    "    recommendations = entry.get(\"recommendation\", [])\n",
    "    for recommendation in recommendations:\n",
    "        item_title = recommendation.get(\"title\")\n",
    "        if item_title:\n",
    "            all_item_titles.append(item_title)\n",
    "\n",
    "# Encode item titles\n",
    "item_titles_encoded = item_encoder.fit_transform(all_item_titles)\n",
    "logger.info(\"Item titles berhasil di-encode.\")\n"
   ]
  },
  {
   "cell_type": "code",
   "execution_count": 132,
   "metadata": {},
   "outputs": [
    {
     "name": "stderr",
     "output_type": "stream",
     "text": [
      "2025-01-12 17:39:01,462 - WARNING - Item ID 753 memiliki tipe yang berbeda: destinasi vs buku\n",
      "2025-01-12 17:39:01,746 - INFO - Mapping itemID ke type telah dibuat. Contoh: [(np.int64(909), 'destinasi'), (np.int64(713), 'destinasi'), (np.int64(365), 'destinasi'), (np.int64(1483), 'destinasi'), (np.int64(122), 'destinasi')]\n"
     ]
    }
   ],
   "source": [
    "# Membuat mapping itemID ke type\n",
    "item_types = {}\n",
    "for entry in data:\n",
    "    for recommendation in entry.get('recommendation', []):\n",
    "        item_title = recommendation.get(\"title\")\n",
    "        item_type = recommendation.get(\"type\")\n",
    "        if item_title is None or item_type is None:\n",
    "            logger.warning(f\"Title atau Type kosong dalam rekomendasi: {recommendation}\")\n",
    "            continue\n",
    "        try:\n",
    "            item_id = item_encoder.transform([item_title])[0]\n",
    "            if item_id in item_types:\n",
    "                if item_types[item_id] != item_type:\n",
    "                    logger.warning(f\"Item ID {item_id} memiliki tipe yang berbeda: {item_types[item_id]} vs {item_type}\")\n",
    "            else:\n",
    "                item_types[item_id] = item_type\n",
    "        except ValueError:\n",
    "            logger.warning(f\"Item title '{item_title}' tidak dikenali oleh item_encoder.\")\n",
    "            continue\n",
    "\n",
    "logger.info(f\"Mapping itemID ke type telah dibuat. Contoh: {list(item_types.items())[:5]}\")\n"
   ]
  },
  {
   "cell_type": "code",
   "execution_count": 133,
   "metadata": {},
   "outputs": [],
   "source": [
    "# Definisikan skala rating maksimum per type\n",
    "type_max_rating = {\n",
    "    'buku': 10,\n",
    "    'destinasi': 5\n",
    "}\n"
   ]
  },
  {
   "cell_type": "code",
   "execution_count": 134,
   "metadata": {},
   "outputs": [
    {
     "name": "stderr",
     "output_type": "stream",
     "text": [
      "2025-01-12 17:39:01,776 - INFO - Mulai memproses data dengan rating berdasarkan emosi dominan.\n",
      "2025-01-12 17:39:03,141 - INFO - DataFrame dibuat dengan 1709 baris.\n",
      "2025-01-12 17:39:03,142 - INFO -    itemID  rating       type  \\\n",
      "0     909     3.0  destinasi   \n",
      "1     713     3.0  destinasi   \n",
      "2     365     3.0  destinasi   \n",
      "3    1483     3.0  destinasi   \n",
      "4     122     3.0  destinasi   \n",
      "\n",
      "                                          msgEmotion  \n",
      "0  Kamu Kesulitan yang dihadapi membuat semuanya ...  \n",
      "1  Kamu Kejadian yang memalukan membuat hati tera...  \n",
      "2  Kamu Hal yang lucu dan menggemaskan membuat se...  \n",
      "3  Kamu Mencari jawaban di antara pertanyaan yang...  \n",
      "4  Kamu Perasaan yang sulit ditahan karena emosi ...  \n"
     ]
    }
   ],
   "source": [
    "# Data Preparation: Assign ratings berdasarkan emosi\n",
    "logger.info(\"Mulai memproses data dengan rating berdasarkan emosi dominan.\")\n",
    "processed_data = []\n",
    "\n",
    "for entry in data:\n",
    "    emotions = entry.get(\"emotionDominant\", [])\n",
    "    recommendations = entry.get(\"recommendation\", [])\n",
    "    # msgEmotion diambil untuk digunakan nanti\n",
    "    msgEmotion = entry.get(\"msgEmotion\", \"\")\n",
    "    for recommendation in recommendations:\n",
    "        item_title = recommendation.get(\"title\")\n",
    "        item_type = recommendation.get(\"type\")\n",
    "        if item_title is None or item_type is None:\n",
    "            logger.warning(f\"Title atau Type kosong dalam rekomendasi: {recommendation}\")\n",
    "            continue\n",
    "        # Tetapkan rating berdasarkan emosi\n",
    "        if any(emotion.lower() in [\"gembira\", \"bahagia\", \"senang\"] for emotion in emotions):\n",
    "            rating = 5\n",
    "        elif any(emotion.lower() in [\"marah\", \"kesal\", \"sedih\"] for emotion in emotions):\n",
    "            rating = 2\n",
    "        else:\n",
    "            rating = 3  # Netral\n",
    "        # Pastikan rating adalah numerik\n",
    "        try:\n",
    "            rating = float(rating)\n",
    "        except ValueError:\n",
    "            logger.warning(f\"Rating tidak valid untuk item_title {item_title}. Mengabaikan entri ini.\")\n",
    "            continue\n",
    "        # Encode item title\n",
    "        try:\n",
    "            item_id = item_encoder.transform([item_title])[0]\n",
    "        except ValueError:\n",
    "            logger.warning(f\"Item title '{item_title}' tidak dikenali oleh item_encoder.\")\n",
    "            continue\n",
    "        processed_data.append({\n",
    "            'itemID': item_id,\n",
    "            'rating': rating,\n",
    "            'type': item_type,\n",
    "            'msgEmotion': msgEmotion  # Tambahkan msgEmotion ke dalam processed_data\n",
    "        })\n",
    "\n",
    "# Cek apakah ada data yang valid\n",
    "if not processed_data:\n",
    "    logger.error(\"Tidak ada data yang diproses dengan rating yang valid.\")\n",
    "    raise ValueError(\"Dataset tidak memiliki data dengan rating yang valid.\")\n",
    "\n",
    "# Membuat DataFrame\n",
    "df = pd.DataFrame(processed_data)\n",
    "logger.info(f\"DataFrame dibuat dengan {df.shape[0]} baris.\")\n",
    "logger.info(df.head())\n"
   ]
  },
  {
   "cell_type": "code",
   "execution_count": 135,
   "metadata": {},
   "outputs": [
    {
     "name": "stderr",
     "output_type": "stream",
     "text": [
      "2025-01-12 17:39:03,156 - INFO - Using categorical units to plot a list of strings that are all parsable as floats or dates. If these strings should be plotted as numbers, cast to the appropriate data type before plotting.\n",
      "2025-01-12 17:39:03,160 - INFO - Using categorical units to plot a list of strings that are all parsable as floats or dates. If these strings should be plotted as numbers, cast to the appropriate data type before plotting.\n",
      "2025-01-12 17:39:03,196 - INFO - Plot distribusi rating berhasil dibuat dan disimpan sebagai 'rating_distribution.png'.\n"
     ]
    },
    {
     "data": {
      "image/png": "[encoded data removed]",
      "text/plain": [
       "<Figure size 800x600 with 1 Axes>"
      ]
     },
     "metadata": {},
     "output_type": "display_data"
    }
   ],
   "source": [
    "# Visualisasi Distribusi Rating\n",
    "plt.figure(figsize=(8,6))\n",
    "sns.countplot(x='rating', data=df)\n",
    "plt.title('Distribusi Rating Berdasarkan Emosi Dominan')\n",
    "plt.xlabel('Rating')\n",
    "plt.ylabel('Jumlah Item')\n",
    "plt.savefig(\"rating_distribution.png\")\n",
    "logger.info(\"Plot distribusi rating berhasil dibuat dan disimpan sebagai 'rating_distribution.png'.\")\n",
    "plt.show()\n"
   ]
  },
  {
   "cell_type": "code",
   "execution_count": 136,
   "metadata": {},
   "outputs": [
    {
     "name": "stderr",
     "output_type": "stream",
     "text": [
      "2025-01-12 17:39:03,231 - INFO - Rating rata-rata per item telah dihitung.\n",
      "2025-01-12 17:39:03,232 - INFO -    itemID  type  rating\n",
      "0       0  buku     3.0\n",
      "1       1  buku     5.0\n",
      "2       2  buku     5.0\n",
      "3       3  buku     3.0\n",
      "4       4  buku     2.0\n"
     ]
    }
   ],
   "source": [
    "# Menghitung rating rata-rata per item\n",
    "df_item_ratings = df.groupby(['itemID', 'type'])['rating'].mean().reset_index()\n",
    "logger.info(\"Rating rata-rata per item telah dihitung.\")\n",
    "logger.info(df_item_ratings.head())\n"
   ]
  },
  {
   "cell_type": "code",
   "execution_count": 137,
   "metadata": {},
   "outputs": [],
   "source": [
    "# Fungsi untuk menghasilkan rekomendasi berdasarkan emosi\n",
    "def generate_recommendations(emotion_dominant, top_n=5):\n",
    "    logger.info(f\"Memulai rekomendasi dengan emosi dominan: {emotion_dominant}\")\n",
    "    \n",
    "    # Tetapkan bobot emosi\n",
    "    if any(emotion.lower() in [\"gembira\", \"bahagia\", \"senang\"] for emotion in emotion_dominant):\n",
    "        # Emosi positif, preferensi tinggi\n",
    "        rating_multiplier = 1.2\n",
    "    elif any(emotion.lower() in [\"marah\", \"kesal\", \"sedih\"] for emotion in emotion_dominant):\n",
    "        # Emosi negatif, preferensi rendah\n",
    "        rating_multiplier = 0.8\n",
    "    else:\n",
    "        # Emosi netral\n",
    "        rating_multiplier = 1.0\n",
    "    \n",
    "    logger.info(f\"Rating multiplier berdasarkan emosi: {rating_multiplier}\")\n",
    "    \n",
    "    # Hitung skor untuk setiap item\n",
    "    # Pastikan untuk menggunakan .map() agar bisa mengakses nilai dari dictionary\n",
    "    df_item_ratings['score'] = df_item_ratings['rating'] * rating_multiplier / df_item_ratings['type'].map(type_max_rating)\n",
    "    \n",
    "    # Sort item berdasarkan skor\n",
    "    df_sorted = df_item_ratings.sort_values(by='score', ascending=False)\n",
    "    \n",
    "    # Ambil 3 buku dan 2 destinasi teratas\n",
    "    top_buku = df_sorted[df_sorted['type'] == 'buku'].head(3)\n",
    "    top_destinasi = df_sorted[df_sorted['type'] == 'destinasi'].head(2)\n",
    "    \n",
    "    recommendations = pd.concat([top_buku, top_destinasi])\n",
    "    \n",
    "    # Jika kurang dari top_n, tambahkan secara acak dari tipe yang sama\n",
    "    if recommendations.shape[0] < top_n:\n",
    "        needed = top_n - recommendations.shape[0]\n",
    "        remaining_items = df_sorted[~df_sorted['itemID'].isin(recommendations['itemID'])]\n",
    "        # Pilih item secara acak dari remaining_items\n",
    "        if needed <= len(remaining_items):\n",
    "            random_items = remaining_items.sample(n=needed)\n",
    "        else:\n",
    "            random_items = remaining_items\n",
    "        recommendations = pd.concat([recommendations, random_items])\n",
    "    \n",
    "    # Ambil item titles\n",
    "    recommended_items = []\n",
    "    seen_titles = set()\n",
    "    # Kumpulkan msgEmotion berdasarkan emosi dominan\n",
    "    matching_entries = [entry for entry in data if any(emotion.lower() in [e.lower() for e in entry.get(\"emotionDominant\", [])] for emotion in emotion_dominant)]\n",
    "    msg_emotions = [entry.get(\"msgEmotion\", \"\") for entry in matching_entries]\n",
    "    if msg_emotions:\n",
    "        # Pilih msgEmotion yang paling sering muncul\n",
    "        msg_emotion = max(set(msg_emotions), key=msg_emotions.count)\n",
    "    else:\n",
    "        msg_emotion = \"Tidak ada data pengguna. Berikut adalah rekomendasi teratas berdasarkan rating tertinggi dan beberapa rekomendasi acak.\"\n",
    "    \n",
    "    for _, row in recommendations.iterrows():\n",
    "        try:\n",
    "            item_title = item_encoder.inverse_transform([int(row['itemID'])])[0]\n",
    "        except ValueError:\n",
    "            logger.warning(f\"Item ID {row['itemID']} tidak dikenali oleh item_encoder.\")\n",
    "            continue\n",
    "        if item_title in seen_titles:\n",
    "            continue\n",
    "        # Cari detail item dari dataset\n",
    "        for entry in data:\n",
    "            for rec in entry.get('recommendation', []):\n",
    "                if rec.get(\"title\") == item_title:\n",
    "                    recommended_items.append({\n",
    "                        \"title\": rec.get(\"title\", \"\"),\n",
    "                        \"image\": rec.get(\"image\", \"\"),\n",
    "                        \"desc\": rec.get(\"desc\", \"\"),\n",
    "                        \"type\": rec.get(\"type\", \"\")\n",
    "                    })\n",
    "                    seen_titles.add(item_title)\n",
    "                    logger.info(f\"Rekomendasi ditambahkan: {item_title}\")\n",
    "                    break\n",
    "            if item_title in seen_titles:\n",
    "                break\n",
    "        if len(recommended_items) >= top_n:\n",
    "            break\n",
    "    \n",
    "    logger.info(f\"Total rekomendasi yang dikembalikan: {len(recommended_items)}\")\n",
    "    return {\n",
    "        \"msgEmotion\": msg_emotion,\n",
    "        \"recommendation\": recommended_items[:top_n]\n",
    "    }\n"
   ]
  },
  {
   "cell_type": "code",
   "execution_count": 138,
   "metadata": {},
   "outputs": [
    {
     "name": "stderr",
     "output_type": "stream",
     "text": [
      "2025-01-12 17:39:03,257 - INFO - Memulai rekomendasi dengan emosi dominan: ['Senang', 'Bahagia', 'Terharu']\n",
      "2025-01-12 17:39:03,258 - INFO - Rating multiplier berdasarkan emosi: 1.2\n",
      "2025-01-12 17:39:03,262 - INFO - Rekomendasi ditambahkan: #FriendButMarried\n",
      "2025-01-12 17:39:03,263 - INFO - Rekomendasi ditambahkan: 12:00 A.M.\n",
      "2025-01-12 17:39:03,264 - INFO - Rekomendasi ditambahkan: Stay with Me\n",
      "2025-01-12 17:39:03,265 - INFO - Rekomendasi ditambahkan: Wisata Kuliner Pecenongan\n",
      "2025-01-12 17:39:03,265 - INFO - Rekomendasi ditambahkan: Wisata Lereng Kelir\n",
      "2025-01-12 17:39:03,266 - INFO - Total rekomendasi yang dikembalikan: 5\n",
      "2025-01-12 17:39:03,266 - INFO - Pesan Emosi: Kamu Harapan yang tak terpenuhi membuat hati terasa kosong. dan Hal yang lucu dan menggemaskan membuat senyum tak bisa berhenti. dan Kebahagiaan sederhana membawa senyuman di wajah.\n"
     ]
    },
    {
     "name": "stdout",
     "output_type": "stream",
     "text": [
      "Kamu Harapan yang tak terpenuhi membuat hati terasa kosong. dan Hal yang lucu dan menggemaskan membuat senyum tak bisa berhenti. dan Kebahagiaan sederhana membawa senyuman di wajah.\n"
     ]
    },
    {
     "data": {
      "text/html": [
       "<div>\n",
       "<style scoped>\n",
       "    .dataframe tbody tr th:only-of-type {\n",
       "        vertical-align: middle;\n",
       "    }\n",
       "\n",
       "    .dataframe tbody tr th {\n",
       "        vertical-align: top;\n",
       "    }\n",
       "\n",
       "    .dataframe thead th {\n",
       "        text-align: right;\n",
       "    }\n",
       "</style>\n",
       "<table border=\"1\" class=\"dataframe\">\n",
       "  <thead>\n",
       "    <tr style=\"text-align: right;\">\n",
       "      <th></th>\n",
       "      <th>title</th>\n",
       "      <th>image</th>\n",
       "      <th>desc</th>\n",
       "      <th>type</th>\n",
       "    </tr>\n",
       "  </thead>\n",
       "  <tbody>\n",
       "    <tr>\n",
       "      <th>0</th>\n",
       "      <td>#FriendButMarried</td>\n",
       "      <td>https://picsum.photos/seed/831/200/300</td>\n",
       "      <td>Ayudia (Vanesha Prescilla) and Ditto (Adipati ...</td>\n",
       "      <td>buku</td>\n",
       "    </tr>\n",
       "    <tr>\n",
       "      <th>1</th>\n",
       "      <td>12:00 A.M.</td>\n",
       "      <td>https://picsum.photos/seed/599/200/300</td>\n",
       "      <td></td>\n",
       "      <td>buku</td>\n",
       "    </tr>\n",
       "    <tr>\n",
       "      <th>2</th>\n",
       "      <td>Stay with Me</td>\n",
       "      <td>https://picsum.photos/seed/65/200/300</td>\n",
       "      <td>Boy Dimas (Boy William) and Deyna (Ully Triani...</td>\n",
       "      <td>buku</td>\n",
       "    </tr>\n",
       "    <tr>\n",
       "      <th>3</th>\n",
       "      <td>Wisata Kuliner Pecenongan</td>\n",
       "      <td>https://picsum.photos/seed/842/200/300</td>\n",
       "      <td>Pecenongan merupakan salah satu surga kuliner ...</td>\n",
       "      <td>destinasi</td>\n",
       "    </tr>\n",
       "    <tr>\n",
       "      <th>4</th>\n",
       "      <td>Wisata Lereng Kelir</td>\n",
       "      <td>https://picsum.photos/seed/35/200/300</td>\n",
       "      <td>Wisata yang ada di kawasan gunung Kelir ini me...</td>\n",
       "      <td>destinasi</td>\n",
       "    </tr>\n",
       "  </tbody>\n",
       "</table>\n",
       "</div>"
      ],
      "text/plain": [
       "                       title                                   image  \\\n",
       "0          #FriendButMarried  https://picsum.photos/seed/831/200/300   \n",
       "1                 12:00 A.M.  https://picsum.photos/seed/599/200/300   \n",
       "2               Stay with Me   https://picsum.photos/seed/65/200/300   \n",
       "3  Wisata Kuliner Pecenongan  https://picsum.photos/seed/842/200/300   \n",
       "4        Wisata Lereng Kelir   https://picsum.photos/seed/35/200/300   \n",
       "\n",
       "                                                desc       type  \n",
       "0  Ayudia (Vanesha Prescilla) and Ditto (Adipati ...       buku  \n",
       "1                                                          buku  \n",
       "2  Boy Dimas (Boy William) and Deyna (Ully Triani...       buku  \n",
       "3  Pecenongan merupakan salah satu surga kuliner ...  destinasi  \n",
       "4  Wisata yang ada di kawasan gunung Kelir ini me...  destinasi  "
      ]
     },
     "metadata": {},
     "output_type": "display_data"
    }
   ],
   "source": [
    "# Contoh Penggunaan Fungsi generate_recommendations\n",
    "# Misalnya, emosi dominan adalah \"Senang\", \"Bahagia\", dan \"Terharu\"\n",
    "emotion_input = [\"Senang\", \"Bahagia\", \"Terharu\"]\n",
    "user_recommendations = generate_recommendations(emotion_input, top_n=5)\n",
    "logger.info(f\"Pesan Emosi: {user_recommendations['msgEmotion']}\")\n",
    "\n",
    "# Display the recommendations in a tabular format using IPython display\n",
    "try:\n",
    "    # Print the emotion message\n",
    "    print(user_recommendations[\"msgEmotion\"])\n",
    "    \n",
    "    # Create DataFrame for recommendations\n",
    "    df_rekom = pd.DataFrame(user_recommendations[\"recommendation\"])[['title', 'image', 'desc', 'type']]\n",
    "    \n",
    "    # Display the DataFrame in a tabular format\n",
    "    display(df_rekom)\n",
    "except KeyError as e:\n",
    "    logger.error(f\"Kesalahan dalam membuat DataFrame rekomendasi: {e}\")\n",
    "    print(f\"Kesalahan: {e}\")\n",
    "    print(\"Isi Rekomendasi:\", user_recommendations.get(\"recommendation\", []))\n"
   ]
  },
  {
   "cell_type": "code",
   "execution_count": 139,
   "metadata": {},
   "outputs": [
    {
     "name": "stderr",
     "output_type": "stream",
     "text": [
      "2025-01-12 17:39:03,326 - INFO - Plot distribusi tipe item dalam rekomendasi berhasil dibuat dan disimpan sebagai 'recommendation_types_distribution.png'.\n"
     ]
    },
    {
     "data": {
      "image/png": "[encoded data removed]",
      "text/plain": [
       "<Figure size 1200x800 with 1 Axes>"
      ]
     },
     "metadata": {},
     "output_type": "display_data"
    }
   ],
   "source": [
    "# Visualisasi Rekomendasi\n",
    "def visualize_recommendations(recommendations):\n",
    "    plt.figure(figsize=(12, 8))\n",
    "    types = [item['type'] for item in recommendations]\n",
    "    sns.countplot(x=types)\n",
    "    plt.title('Distribusi Tipe Item dalam Rekomendasi')\n",
    "    plt.xlabel('Tipe Item')\n",
    "    plt.ylabel('Jumlah Rekomendasi')\n",
    "    plt.savefig(\"recommendation_types_distribution.png\")\n",
    "    logger.info(\"Plot distribusi tipe item dalam rekomendasi berhasil dibuat dan disimpan sebagai 'recommendation_types_distribution.png'.\")\n",
    "    plt.show()\n",
    "\n",
    "visualize_recommendations(user_recommendations[\"recommendation\"])\n"
   ]
  },
  {
   "cell_type": "code",
   "execution_count": 140,
   "metadata": {},
   "outputs": [
    {
     "name": "stderr",
     "output_type": "stream",
     "text": [
      "2025-01-12 17:39:03,367 - INFO - Rekomendasi berhasil disimpan ke recommendations.json.\n"
     ]
    }
   ],
   "source": [
    "# Menyimpan Rekomendasi ke File JSON\n",
    "import json\n",
    "\n",
    "def save_recommendations(recommendations, filename=\"recommendations.json\"):\n",
    "    with open(filename, 'w', encoding='utf-8') as f:\n",
    "        json.dump(recommendations, f, ensure_ascii=False, indent=4)\n",
    "    logger.info(f\"Rekomendasi berhasil disimpan ke {filename}.\")\n",
    "\n",
    "save_recommendations(user_recommendations)\n"
   ]
  },
  {
   "cell_type": "code",
   "execution_count": 141,
   "metadata": {},
   "outputs": [
    {
     "name": "stderr",
     "output_type": "stream",
     "text": [
      "2025-01-12 17:39:03,424 - INFO - Plot distribusi rating per tipe item berhasil dibuat dan disimpan sebagai 'rating_per_type.png'.\n"
     ]
    },
    {
     "data": {
      "image/png": "[encoded data removed]",
      "text/plain": [
       "<Figure size 800x600 with 1 Axes>"
      ]
     },
     "metadata": {},
     "output_type": "display_data"
    }
   ],
   "source": [
    "# Analisis Tambahan (Opsional)\n",
    "# Misalnya, melihat korelasi antara rating dan tipe\n",
    "plt.figure(figsize=(8,6))\n",
    "sns.boxplot(x='type', y='rating', data=df_item_ratings)\n",
    "plt.title('Distribusi Rating per Tipe Item')\n",
    "plt.xlabel('Tipe Item')\n",
    "plt.ylabel('Rating Rata-rata')\n",
    "plt.savefig(\"rating_per_type.png\")\n",
    "logger.info(\"Plot distribusi rating per tipe item berhasil dibuat dan disimpan sebagai 'rating_per_type.png'.\")\n",
    "plt.show()\n"
   ]
  }
 ],
 "metadata": {
  "language_info": {
   "codemirror_mode": {
    "name": "ipython",
    "version": 3
   },
   "file_extension": ".py",
   "mimetype": "text/x-python",
   "name": "python",
   "nbconvert_exporter": "python",
   "pygments_lexer": "ipython3",
   "version": 3
  }
 },
 "nbformat": 4,
 "nbformat_minor": 2
}
