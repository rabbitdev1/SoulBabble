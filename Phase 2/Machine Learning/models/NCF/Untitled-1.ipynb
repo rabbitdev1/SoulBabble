{
 "cells": [
  {
   "cell_type": "code",
   "execution_count": 413,
   "metadata": {},
   "outputs": [],
   "source": [
    "import numpy as np\n",
    "import pandas as pd\n",
    "import json\n",
    "import matplotlib.pyplot as plt\n",
    "import seaborn as sns\n",
    "import re\n",
    "import nltk\n",
    "from nltk.corpus import stopwords\n",
    "from sklearn.preprocessing import LabelEncoder\n",
    "from sklearn.model_selection import train_test_split\n",
    "from tensorflow.keras.models import Sequential, Model\n",
    "from tensorflow.keras.layers import Dense, Dropout, Input, Embedding, Flatten, concatenate\n",
    "from tensorflow.keras.optimizers import Adam\n",
    "from tensorflow.keras.callbacks import EarlyStopping, ModelCheckpoint\n",
    "from sklearn.metrics import classification_report, confusion_matrix, accuracy_score\n",
    "import tensorflow.keras.backend as K\n",
    "import joblib\n",
    "from IPython.display import display\n",
    "import random\n"
   ]
  },
  {
   "cell_type": "code",
   "execution_count": 414,
   "metadata": {},
   "outputs": [],
   "source": [
    "# Tetapkan seed untuk reproduksi\n",
    "np.random.seed(42)\n",
    "tf.random.set_seed(42)\n"
   ]
  },
  {
   "cell_type": "code",
   "execution_count": 415,
   "metadata": {},
   "outputs": [
    {
     "name": "stderr",
     "output_type": "stream",
     "text": [
      "[nltk_data] Downloading package stopwords to\n",
      "[nltk_data]     C:\\Users\\lucifrr\\AppData\\Roaming\\nltk_data...\n",
      "[nltk_data]   Package stopwords is already up-to-date!\n"
     ]
    }
   ],
   "source": [
    "# Unduh stopwords untuk Bahasa Indonesia\n",
    "nltk.download('stopwords')\n",
    "stopwords_indonesia = stopwords.words('indonesian')\n"
   ]
  },
  {
   "cell_type": "code",
   "execution_count": 416,
   "metadata": {},
   "outputs": [],
   "source": [
    "# Fungsi preprocessing\n",
    "def preprocess_text(text):\n",
    "    # Menghapus karakter yang tidak relevan dan menurunkan semua huruf menjadi kecil\n",
    "    text = re.sub(r'[^a-zA-Z\\s]', '', text.lower())\n",
    "    # Menghapus stopwords\n",
    "    text = ' '.join([word for word in text.split() if word not in stopwords_indonesia])\n",
    "    return text\n"
   ]
  },
  {
   "cell_type": "code",
   "execution_count": 417,
   "metadata": {},
   "outputs": [
    {
     "name": "stdout",
     "output_type": "stream",
     "text": [
      "Dataset berhasil dimuat.\n"
     ]
    }
   ],
   "source": [
    "# Memuat dataset JSON untuk NCF\n",
    "try:\n",
    "    with open(\"./dataset.JSON\", 'r', encoding='utf-8') as file:\n",
    "        data = json.load(file)\n",
    "    print(\"Dataset berhasil dimuat.\")\n",
    "except Exception as e:\n",
    "    print(f\"Error saat memuat dataset: {e}\")\n",
    "    raise e\n"
   ]
  },
  {
   "cell_type": "code",
   "execution_count": 418,
   "metadata": {},
   "outputs": [
    {
     "name": "stdout",
     "output_type": "stream",
     "text": [
      "User IDs dan Item Titles berhasil di-encode.\n"
     ]
    }
   ],
   "source": [
    "# Inisialisasi LabelEncoder untuk user dan item\n",
    "user_encoder = LabelEncoder()\n",
    "item_encoder = LabelEncoder()\n",
    "\n",
    "# Kumpulkan semua userIDs dan item titles untuk encoding\n",
    "all_user_ids = []\n",
    "all_item_titles = []\n",
    "\n",
    "for entry in data:\n",
    "    user_id = entry.get(\"userID\")\n",
    "    if user_id:\n",
    "        all_user_ids.append(user_id)\n",
    "    recommendations = entry.get(\"recommendation\", [])\n",
    "    for recommendation in recommendations:\n",
    "        item_title = recommendation.get(\"title\")\n",
    "        if item_title:\n",
    "            all_item_titles.append(item_title)\n",
    "\n",
    "# Encode user IDs dan item titles\n",
    "user_ids_encoded = user_encoder.fit_transform(all_user_ids)\n",
    "item_titles_encoded = item_encoder.fit_transform(all_item_titles)\n",
    "print(\"User IDs dan Item Titles berhasil di-encode.\")\n"
   ]
  },
  {
   "cell_type": "code",
   "execution_count": 419,
   "metadata": {},
   "outputs": [
    {
     "name": "stdout",
     "output_type": "stream",
     "text": [
      "Item ID 753 memiliki tipe yang berbeda: destinasi vs buku\n",
      "Mapping itemID ke type telah dibuat. Contoh: [(np.int64(909), 'destinasi'), (np.int64(713), 'destinasi'), (np.int64(365), 'destinasi'), (np.int64(1483), 'destinasi'), (np.int64(122), 'destinasi')]\n"
     ]
    }
   ],
   "source": [
    "# Membuat mapping itemID ke type\n",
    "item_types = {}\n",
    "for entry in data:\n",
    "    recommendations = entry.get(\"recommendation\", [])\n",
    "    for rec in recommendations:\n",
    "        item_title = rec.get(\"title\")\n",
    "        item_type = rec.get(\"type\")\n",
    "        if item_title is None or item_type is None:\n",
    "            print(f\"Title atau Type kosong dalam rekomendasi: {rec}\")\n",
    "            continue\n",
    "        try:\n",
    "            item_id = item_encoder.transform([item_title])[0]\n",
    "            if item_id in item_types:\n",
    "                if item_types[item_id] != item_type:\n",
    "                    print(f\"Item ID {item_id} memiliki tipe yang berbeda: {item_types[item_id]} vs {item_type}\")\n",
    "            else:\n",
    "                item_types[item_id] = item_type\n",
    "        except ValueError:\n",
    "            print(f\"Item title '{item_title}' tidak dikenali oleh item_encoder.\")\n",
    "            continue\n",
    "\n",
    "print(f\"Mapping itemID ke type telah dibuat. Contoh: {list(item_types.items())[:5]}\")\n"
   ]
  },
  {
   "cell_type": "code",
   "execution_count": 420,
   "metadata": {},
   "outputs": [
    {
     "name": "stdout",
     "output_type": "stream",
     "text": [
      "type_max_rating: {'buku': 10, 'destinasi': 5, 'film': 8}\n"
     ]
    }
   ],
   "source": [
    "# Definisikan skala rating maksimum per type\n",
    "# Pastikan untuk mencakup semua jenis yang ada dalam data\n",
    "all_types = set(item_types.values())\n",
    "default_max_rating = 5  # Atur nilai default sesuai kebutuhan\n",
    "\n",
    "type_max_rating = {item_type: default_max_rating for item_type in all_types}\n",
    "\n",
    "# Sesuaikan skala rating untuk jenis tertentu\n",
    "type_max_rating.update({\n",
    "    'buku': 10,\n",
    "    'film': 8,\n",
    "    # Tambahkan penyesuaian lain jika diperlukan\n",
    "})\n",
    "\n",
    "print(\"type_max_rating:\", type_max_rating)\n"
   ]
  },
  {
   "cell_type": "code",
   "execution_count": 421,
   "metadata": {},
   "outputs": [
    {
     "name": "stdout",
     "output_type": "stream",
     "text": [
      "Mulai memproses data dengan rating berdasarkan emosi dominan.\n",
      "DataFrame dibuat dengan 1709 baris.\n",
      "   userID  itemID  rating       type\n",
      "0    1454     909     3.0  destinasi\n",
      "1     874     713     3.0  destinasi\n",
      "2     669     365     3.0  destinasi\n",
      "3     426    1483     3.0  destinasi\n",
      "4     461     122     3.0  destinasi\n"
     ]
    }
   ],
   "source": [
    "# Data Preparation: Assign ratings berdasarkan emosi\n",
    "print(\"Mulai memproses data dengan rating berdasarkan emosi dominan.\")\n",
    "processed_data = []\n",
    "\n",
    "for entry in data:\n",
    "    user_id = entry.get(\"userID\")\n",
    "    if not user_id:\n",
    "        continue  # Lewati entri tanpa userID\n",
    "    emotions = entry.get(\"emotionDominant\", [])\n",
    "    recommendations = entry.get(\"recommendation\", [])\n",
    "    msgEmotion = entry.get(\"msgEmotion\", \"\")\n",
    "    for rec in recommendations:\n",
    "        item_title = rec.get(\"title\")\n",
    "        item_type = rec.get(\"type\")\n",
    "        if item_title is None or item_type is None:\n",
    "            print(f\"Title atau Type kosong dalam rekomendasi: {rec}\")\n",
    "            continue\n",
    "        # Tetapkan rating berdasarkan emosi\n",
    "        if any(emotion.lower() in [\"gembira\", \"bahagia\", \"senang\"] for emotion in emotions):\n",
    "            rating = 5\n",
    "        elif any(emotion.lower() in [\"marah\", \"kesal\", \"sedih\"] for emotion in emotions):\n",
    "            rating = 2\n",
    "        else:\n",
    "            rating = 3  # Netral\n",
    "        # Pastikan rating adalah numerik\n",
    "        try:\n",
    "            rating = float(rating)\n",
    "        except ValueError:\n",
    "            print(f\"Rating tidak valid untuk item_title {item_title}. Mengabaikan entri ini.\")\n",
    "            continue\n",
    "        # Encode item title\n",
    "        try:\n",
    "            item_id = item_encoder.transform([item_title])[0]\n",
    "        except ValueError:\n",
    "            print(f\"Item title '{item_title}' tidak dikenali oleh item_encoder.\")\n",
    "            continue\n",
    "        # Encode user_id\n",
    "        try:\n",
    "            user_id_num = user_encoder.transform([user_id])[0]\n",
    "        except ValueError:\n",
    "            print(f\"User ID '{user_id}' tidak dikenali oleh user_encoder.\")\n",
    "            continue\n",
    "        # Tambahkan 'type' ke processed_data\n",
    "        processed_data.append({\n",
    "            'userID': user_id_num,\n",
    "            'itemID': item_id,\n",
    "            'rating': rating,\n",
    "            'type': item_type  # Tambahkan 'type'\n",
    "        })\n",
    "\n",
    "# Cek apakah ada data yang valid\n",
    "if not processed_data:\n",
    "    print(\"Tidak ada data yang diproses dengan rating yang valid.\")\n",
    "    raise ValueError(\"Dataset tidak memiliki data dengan rating yang valid.\")\n",
    "\n",
    "# Membuat DataFrame\n",
    "df = pd.DataFrame(processed_data)\n",
    "print(f\"DataFrame dibuat dengan {df.shape[0]} baris.\")\n",
    "print(df.head())\n"
   ]
  },
  {
   "cell_type": "code",
   "execution_count": 422,
   "metadata": {},
   "outputs": [
    {
     "name": "stdout",
     "output_type": "stream",
     "text": [
      "Plot distribusi rating berhasil dibuat dan disimpan sebagai 'rating_distribution.png'.\n"
     ]
    },
    {
     "data": {
      "image/png": "[encoded data removed]",
      "text/plain": [
       "<Figure size 800x600 with 1 Axes>"
      ]
     },
     "metadata": {},
     "output_type": "display_data"
    }
   ],
   "source": [
    "# Visualisasi Distribusi Rating\n",
    "plt.figure(figsize=(8,6))\n",
    "sns.countplot(x='rating', data=df)\n",
    "plt.title('Distribusi Rating Berdasarkan Emosi Dominan')\n",
    "plt.xlabel('Rating')\n",
    "plt.ylabel('Jumlah Item')\n",
    "plt.savefig(\"rating_distribution.png\")\n",
    "print(\"Plot distribusi rating berhasil dibuat dan disimpan sebagai 'rating_distribution.png'.\")\n",
    "plt.show()\n"
   ]
  },
  {
   "cell_type": "code",
   "execution_count": 423,
   "metadata": {},
   "outputs": [
    {
     "name": "stdout",
     "output_type": "stream",
     "text": [
      "Rating rata-rata per item telah dihitung.\n",
      "   itemID  type  rating\n",
      "0       0  buku     3.0\n",
      "1       1  buku     5.0\n",
      "2       2  buku     5.0\n",
      "3       3  buku     3.0\n",
      "4       4  buku     2.0\n"
     ]
    }
   ],
   "source": [
    "# Menghitung rating rata-rata per item\n",
    "df_item_ratings = df.groupby(['itemID', 'type'])['rating'].mean().reset_index()\n",
    "print(\"Rating rata-rata per item telah dihitung.\")\n",
    "print(df_item_ratings.head())\n"
   ]
  },
  {
   "cell_type": "code",
   "execution_count": 424,
   "metadata": {},
   "outputs": [
    {
     "name": "stdout",
     "output_type": "stream",
     "text": [
      "Data dibagi menjadi train: 1367 dan test: 342\n"
     ]
    }
   ],
   "source": [
    "# Membagi data menjadi train dan test\n",
    "train, test = train_test_split(df, test_size=0.2, random_state=42)\n",
    "print(f\"Data dibagi menjadi train: {train.shape[0]} dan test: {test.shape[0]}\")\n"
   ]
  },
  {
   "cell_type": "code",
   "execution_count": 425,
   "metadata": {},
   "outputs": [
    {
     "name": "stdout",
     "output_type": "stream",
     "text": [
      "Jumlah pengguna: 1709, Jumlah item: 1698\n"
     ]
    }
   ],
   "source": [
    "# Menentukan jumlah pengguna dan item\n",
    "num_users = df['userID'].nunique()\n",
    "num_items = df['itemID'].nunique()\n",
    "print(f\"Jumlah pengguna: {num_users}, Jumlah item: {num_items}\")\n"
   ]
  },
  {
   "cell_type": "code",
   "execution_count": 426,
   "metadata": {},
   "outputs": [],
   "source": [
    "# Mendefinisikan Metrik Akurasi Kustom\n",
    "def within_threshold_accuracy(y_true, y_pred, threshold=1.0):\n",
    "    return K.mean(K.cast(K.abs(y_pred - y_true) <= threshold, 'float32'))\n"
   ]
  },
  {
   "cell_type": "code",
   "execution_count": 427,
   "metadata": {},
   "outputs": [],
   "source": [
    "# Membuat model NCF menggunakan Functional API Keras\n",
    "def build_ncf_model(num_users, num_items, embedding_size=50):\n",
    "    # Input layers\n",
    "    user_input = Input(shape=(1,), name='user_input')\n",
    "    item_input = Input(shape=(1,), name='item_input')\n",
    "    \n",
    "    # Embedding layers\n",
    "    user_embedding = Embedding(input_dim=num_users + 1, output_dim=embedding_size, name='user_embedding')(user_input)\n",
    "    item_embedding = Embedding(input_dim=num_items + 1, output_dim=embedding_size, name='item_embedding')(item_input)\n",
    "    \n",
    "    # Flatten embeddings\n",
    "    user_vec = Flatten()(user_embedding)\n",
    "    item_vec = Flatten()(item_embedding)\n",
    "    \n",
    "    # Concatenate user and item vectors\n",
    "    concat = concatenate([user_vec, item_vec], axis=-1)\n",
    "    \n",
    "    # Dense layers\n",
    "    dense1 = Dense(256, activation='relu', kernel_regularizer=regularizers.l2(0.001))(concat)\n",
    "    dense2 = Dense(128, activation='relu', kernel_regularizer=regularizers.l2(0.001))(dense1)\n",
    "    dense3 = Dense(64, activation='relu', kernel_regularizer=regularizers.l2(0.001))(dense2)\n",
    "    \n",
    "    # Output layer\n",
    "    output = Dense(1, activation='linear', name='output')(dense3)\n",
    "    \n",
    "    # Create model\n",
    "    model = Model(inputs=[user_input, item_input], outputs=output)\n",
    "    \n",
    "    # Compile model dengan metrik akurasi kustom\n",
    "    model.compile(\n",
    "        optimizer=Adam(learning_rate=0.001),\n",
    "        loss='mse',\n",
    "        metrics=[within_threshold_accuracy]\n",
    "    )\n",
    "    \n",
    "    return model\n"
   ]
  },
  {
   "cell_type": "code",
   "execution_count": 428,
   "metadata": {},
   "outputs": [],
   "source": [
    "# Callbacks untuk Early Stopping dan Model Checkpoint\n",
    "early_stopping = EarlyStopping(monitor='val_loss', patience=5, restore_best_weights=True)\n",
    "model_checkpoint = ModelCheckpoint(\n",
    "    'best_ncf_model.keras',\n",
    "    monitor='val_loss',\n",
    "    save_best_only=True,\n",
    "    verbose=1\n",
    ")\n"
   ]
  },
  {
   "cell_type": "code",
   "execution_count": 429,
   "metadata": {},
   "outputs": [
    {
     "name": "stdout",
     "output_type": "stream",
     "text": [
      "Model NCF berhasil dibuat.\n"
     ]
    },
    {
     "data": {
      "text/html": [
       "<pre style=\"white-space:pre;overflow-x:auto;line-height:normal;font-family:Menlo,'DejaVu Sans Mono',consolas,'Courier New',monospace\"><span style=\"font-weight: bold\">Model: \"functional_20\"</span>\n",
       "</pre>\n"
      ],
      "text/plain": [
       "\u001b[1mModel: \"functional_20\"\u001b[0m\n"
      ]
     },
     "metadata": {},
     "output_type": "display_data"
    },
    {
     "data": {
      "text/html": [
       "<pre style=\"white-space:pre;overflow-x:auto;line-height:normal;font-family:Menlo,'DejaVu Sans Mono',consolas,'Courier New',monospace\">┏━━━━━━━━━━━━━━━━━━━━━┳━━━━━━━━━━━━━━━━━━━┳━━━━━━━━━━━━┳━━━━━━━━━━━━━━━━━━━┓\n",
       "┃<span style=\"font-weight: bold\"> Layer (type)        </span>┃<span style=\"font-weight: bold\"> Output Shape      </span>┃<span style=\"font-weight: bold\">    Param # </span>┃<span style=\"font-weight: bold\"> Connected to      </span>┃\n",
       "┡━━━━━━━━━━━━━━━━━━━━━╇━━━━━━━━━━━━━━━━━━━╇━━━━━━━━━━━━╇━━━━━━━━━━━━━━━━━━━┩\n",
       "│ user_input          │ (<span style=\"color: #00d7ff; text-decoration-color: #00d7ff\">None</span>, <span style=\"color: #00af00; text-decoration-color: #00af00\">1</span>)         │          <span style=\"color: #00af00; text-decoration-color: #00af00\">0</span> │ -                 │\n",
       "│ (<span style=\"color: #0087ff; text-decoration-color: #0087ff\">InputLayer</span>)        │                   │            │                   │\n",
       "├─────────────────────┼───────────────────┼────────────┼───────────────────┤\n",
       "│ item_input          │ (<span style=\"color: #00d7ff; text-decoration-color: #00d7ff\">None</span>, <span style=\"color: #00af00; text-decoration-color: #00af00\">1</span>)         │          <span style=\"color: #00af00; text-decoration-color: #00af00\">0</span> │ -                 │\n",
       "│ (<span style=\"color: #0087ff; text-decoration-color: #0087ff\">InputLayer</span>)        │                   │            │                   │\n",
       "├─────────────────────┼───────────────────┼────────────┼───────────────────┤\n",
       "│ user_embedding      │ (<span style=\"color: #00d7ff; text-decoration-color: #00d7ff\">None</span>, <span style=\"color: #00af00; text-decoration-color: #00af00\">1</span>, <span style=\"color: #00af00; text-decoration-color: #00af00\">50</span>)     │     <span style=\"color: #00af00; text-decoration-color: #00af00\">85,500</span> │ user_input[<span style=\"color: #00af00; text-decoration-color: #00af00\">0</span>][<span style=\"color: #00af00; text-decoration-color: #00af00\">0</span>]  │\n",
       "│ (<span style=\"color: #0087ff; text-decoration-color: #0087ff\">Embedding</span>)         │                   │            │                   │\n",
       "├─────────────────────┼───────────────────┼────────────┼───────────────────┤\n",
       "│ item_embedding      │ (<span style=\"color: #00d7ff; text-decoration-color: #00d7ff\">None</span>, <span style=\"color: #00af00; text-decoration-color: #00af00\">1</span>, <span style=\"color: #00af00; text-decoration-color: #00af00\">50</span>)     │     <span style=\"color: #00af00; text-decoration-color: #00af00\">84,950</span> │ item_input[<span style=\"color: #00af00; text-decoration-color: #00af00\">0</span>][<span style=\"color: #00af00; text-decoration-color: #00af00\">0</span>]  │\n",
       "│ (<span style=\"color: #0087ff; text-decoration-color: #0087ff\">Embedding</span>)         │                   │            │                   │\n",
       "├─────────────────────┼───────────────────┼────────────┼───────────────────┤\n",
       "│ flatten_40          │ (<span style=\"color: #00d7ff; text-decoration-color: #00d7ff\">None</span>, <span style=\"color: #00af00; text-decoration-color: #00af00\">50</span>)        │          <span style=\"color: #00af00; text-decoration-color: #00af00\">0</span> │ user_embedding[<span style=\"color: #00af00; text-decoration-color: #00af00\">0</span>… │\n",
       "│ (<span style=\"color: #0087ff; text-decoration-color: #0087ff\">Flatten</span>)           │                   │            │                   │\n",
       "├─────────────────────┼───────────────────┼────────────┼───────────────────┤\n",
       "│ flatten_41          │ (<span style=\"color: #00d7ff; text-decoration-color: #00d7ff\">None</span>, <span style=\"color: #00af00; text-decoration-color: #00af00\">50</span>)        │          <span style=\"color: #00af00; text-decoration-color: #00af00\">0</span> │ item_embedding[<span style=\"color: #00af00; text-decoration-color: #00af00\">0</span>… │\n",
       "│ (<span style=\"color: #0087ff; text-decoration-color: #0087ff\">Flatten</span>)           │                   │            │                   │\n",
       "├─────────────────────┼───────────────────┼────────────┼───────────────────┤\n",
       "│ concatenate_20      │ (<span style=\"color: #00d7ff; text-decoration-color: #00d7ff\">None</span>, <span style=\"color: #00af00; text-decoration-color: #00af00\">100</span>)       │          <span style=\"color: #00af00; text-decoration-color: #00af00\">0</span> │ flatten_40[<span style=\"color: #00af00; text-decoration-color: #00af00\">0</span>][<span style=\"color: #00af00; text-decoration-color: #00af00\">0</span>], │\n",
       "│ (<span style=\"color: #0087ff; text-decoration-color: #0087ff\">Concatenate</span>)       │                   │            │ flatten_41[<span style=\"color: #00af00; text-decoration-color: #00af00\">0</span>][<span style=\"color: #00af00; text-decoration-color: #00af00\">0</span>]  │\n",
       "├─────────────────────┼───────────────────┼────────────┼───────────────────┤\n",
       "│ dense_69 (<span style=\"color: #0087ff; text-decoration-color: #0087ff\">Dense</span>)    │ (<span style=\"color: #00d7ff; text-decoration-color: #00d7ff\">None</span>, <span style=\"color: #00af00; text-decoration-color: #00af00\">256</span>)       │     <span style=\"color: #00af00; text-decoration-color: #00af00\">25,856</span> │ concatenate_20[<span style=\"color: #00af00; text-decoration-color: #00af00\">0</span>… │\n",
       "├─────────────────────┼───────────────────┼────────────┼───────────────────┤\n",
       "│ dense_70 (<span style=\"color: #0087ff; text-decoration-color: #0087ff\">Dense</span>)    │ (<span style=\"color: #00d7ff; text-decoration-color: #00d7ff\">None</span>, <span style=\"color: #00af00; text-decoration-color: #00af00\">128</span>)       │     <span style=\"color: #00af00; text-decoration-color: #00af00\">32,896</span> │ dense_69[<span style=\"color: #00af00; text-decoration-color: #00af00\">0</span>][<span style=\"color: #00af00; text-decoration-color: #00af00\">0</span>]    │\n",
       "├─────────────────────┼───────────────────┼────────────┼───────────────────┤\n",
       "│ dense_71 (<span style=\"color: #0087ff; text-decoration-color: #0087ff\">Dense</span>)    │ (<span style=\"color: #00d7ff; text-decoration-color: #00d7ff\">None</span>, <span style=\"color: #00af00; text-decoration-color: #00af00\">64</span>)        │      <span style=\"color: #00af00; text-decoration-color: #00af00\">8,256</span> │ dense_70[<span style=\"color: #00af00; text-decoration-color: #00af00\">0</span>][<span style=\"color: #00af00; text-decoration-color: #00af00\">0</span>]    │\n",
       "├─────────────────────┼───────────────────┼────────────┼───────────────────┤\n",
       "│ output (<span style=\"color: #0087ff; text-decoration-color: #0087ff\">Dense</span>)      │ (<span style=\"color: #00d7ff; text-decoration-color: #00d7ff\">None</span>, <span style=\"color: #00af00; text-decoration-color: #00af00\">1</span>)         │         <span style=\"color: #00af00; text-decoration-color: #00af00\">65</span> │ dense_71[<span style=\"color: #00af00; text-decoration-color: #00af00\">0</span>][<span style=\"color: #00af00; text-decoration-color: #00af00\">0</span>]    │\n",
       "└─────────────────────┴───────────────────┴────────────┴───────────────────┘\n",
       "</pre>\n"
      ],
      "text/plain": [
       "┏━━━━━━━━━━━━━━━━━━━━━┳━━━━━━━━━━━━━━━━━━━┳━━━━━━━━━━━━┳━━━━━━━━━━━━━━━━━━━┓\n",
       "┃\u001b[1m \u001b[0m\u001b[1mLayer (type)       \u001b[0m\u001b[1m \u001b[0m┃\u001b[1m \u001b[0m\u001b[1mOutput Shape     \u001b[0m\u001b[1m \u001b[0m┃\u001b[1m \u001b[0m\u001b[1m   Param #\u001b[0m\u001b[1m \u001b[0m┃\u001b[1m \u001b[0m\u001b[1mConnected to     \u001b[0m\u001b[1m \u001b[0m┃\n",
       "┡━━━━━━━━━━━━━━━━━━━━━╇━━━━━━━━━━━━━━━━━━━╇━━━━━━━━━━━━╇━━━━━━━━━━━━━━━━━━━┩\n",
       "│ user_input          │ (\u001b[38;5;45mNone\u001b[0m, \u001b[38;5;34m1\u001b[0m)         │          \u001b[38;5;34m0\u001b[0m │ -                 │\n",
       "│ (\u001b[38;5;33mInputLayer\u001b[0m)        │                   │            │                   │\n",
       "├─────────────────────┼───────────────────┼────────────┼───────────────────┤\n",
       "│ item_input          │ (\u001b[38;5;45mNone\u001b[0m, \u001b[38;5;34m1\u001b[0m)         │          \u001b[38;5;34m0\u001b[0m │ -                 │\n",
       "│ (\u001b[38;5;33mInputLayer\u001b[0m)        │                   │            │                   │\n",
       "├─────────────────────┼───────────────────┼────────────┼───────────────────┤\n",
       "│ user_embedding      │ (\u001b[38;5;45mNone\u001b[0m, \u001b[38;5;34m1\u001b[0m, \u001b[38;5;34m50\u001b[0m)     │     \u001b[38;5;34m85,500\u001b[0m │ user_input[\u001b[38;5;34m0\u001b[0m][\u001b[38;5;34m0\u001b[0m]  │\n",
       "│ (\u001b[38;5;33mEmbedding\u001b[0m)         │                   │            │                   │\n",
       "├─────────────────────┼───────────────────┼────────────┼───────────────────┤\n",
       "│ item_embedding      │ (\u001b[38;5;45mNone\u001b[0m, \u001b[38;5;34m1\u001b[0m, \u001b[38;5;34m50\u001b[0m)     │     \u001b[38;5;34m84,950\u001b[0m │ item_input[\u001b[38;5;34m0\u001b[0m][\u001b[38;5;34m0\u001b[0m]  │\n",
       "│ (\u001b[38;5;33mEmbedding\u001b[0m)         │                   │            │                   │\n",
       "├─────────────────────┼───────────────────┼────────────┼───────────────────┤\n",
       "│ flatten_40          │ (\u001b[38;5;45mNone\u001b[0m, \u001b[38;5;34m50\u001b[0m)        │          \u001b[38;5;34m0\u001b[0m │ user_embedding[\u001b[38;5;34m0\u001b[0m… │\n",
       "│ (\u001b[38;5;33mFlatten\u001b[0m)           │                   │            │                   │\n",
       "├─────────────────────┼───────────────────┼────────────┼───────────────────┤\n",
       "│ flatten_41          │ (\u001b[38;5;45mNone\u001b[0m, \u001b[38;5;34m50\u001b[0m)        │          \u001b[38;5;34m0\u001b[0m │ item_embedding[\u001b[38;5;34m0\u001b[0m… │\n",
       "│ (\u001b[38;5;33mFlatten\u001b[0m)           │                   │            │                   │\n",
       "├─────────────────────┼───────────────────┼────────────┼───────────────────┤\n",
       "│ concatenate_20      │ (\u001b[38;5;45mNone\u001b[0m, \u001b[38;5;34m100\u001b[0m)       │          \u001b[38;5;34m0\u001b[0m │ flatten_40[\u001b[38;5;34m0\u001b[0m][\u001b[38;5;34m0\u001b[0m], │\n",
       "│ (\u001b[38;5;33mConcatenate\u001b[0m)       │                   │            │ flatten_41[\u001b[38;5;34m0\u001b[0m][\u001b[38;5;34m0\u001b[0m]  │\n",
       "├─────────────────────┼───────────────────┼────────────┼───────────────────┤\n",
       "│ dense_69 (\u001b[38;5;33mDense\u001b[0m)    │ (\u001b[38;5;45mNone\u001b[0m, \u001b[38;5;34m256\u001b[0m)       │     \u001b[38;5;34m25,856\u001b[0m │ concatenate_20[\u001b[38;5;34m0\u001b[0m… │\n",
       "├─────────────────────┼───────────────────┼────────────┼───────────────────┤\n",
       "│ dense_70 (\u001b[38;5;33mDense\u001b[0m)    │ (\u001b[38;5;45mNone\u001b[0m, \u001b[38;5;34m128\u001b[0m)       │     \u001b[38;5;34m32,896\u001b[0m │ dense_69[\u001b[38;5;34m0\u001b[0m][\u001b[38;5;34m0\u001b[0m]    │\n",
       "├─────────────────────┼───────────────────┼────────────┼───────────────────┤\n",
       "│ dense_71 (\u001b[38;5;33mDense\u001b[0m)    │ (\u001b[38;5;45mNone\u001b[0m, \u001b[38;5;34m64\u001b[0m)        │      \u001b[38;5;34m8,256\u001b[0m │ dense_70[\u001b[38;5;34m0\u001b[0m][\u001b[38;5;34m0\u001b[0m]    │\n",
       "├─────────────────────┼───────────────────┼────────────┼───────────────────┤\n",
       "│ output (\u001b[38;5;33mDense\u001b[0m)      │ (\u001b[38;5;45mNone\u001b[0m, \u001b[38;5;34m1\u001b[0m)         │         \u001b[38;5;34m65\u001b[0m │ dense_71[\u001b[38;5;34m0\u001b[0m][\u001b[38;5;34m0\u001b[0m]    │\n",
       "└─────────────────────┴───────────────────┴────────────┴───────────────────┘\n"
      ]
     },
     "metadata": {},
     "output_type": "display_data"
    },
    {
     "data": {
      "text/html": [
       "<pre style=\"white-space:pre;overflow-x:auto;line-height:normal;font-family:Menlo,'DejaVu Sans Mono',consolas,'Courier New',monospace\"><span style=\"font-weight: bold\"> Total params: </span><span style=\"color: #00af00; text-decoration-color: #00af00\">237,523</span> (927.82 KB)\n",
       "</pre>\n"
      ],
      "text/plain": [
       "\u001b[1m Total params: \u001b[0m\u001b[38;5;34m237,523\u001b[0m (927.82 KB)\n"
      ]
     },
     "metadata": {},
     "output_type": "display_data"
    },
    {
     "data": {
      "text/html": [
       "<pre style=\"white-space:pre;overflow-x:auto;line-height:normal;font-family:Menlo,'DejaVu Sans Mono',consolas,'Courier New',monospace\"><span style=\"font-weight: bold\"> Trainable params: </span><span style=\"color: #00af00; text-decoration-color: #00af00\">237,523</span> (927.82 KB)\n",
       "</pre>\n"
      ],
      "text/plain": [
       "\u001b[1m Trainable params: \u001b[0m\u001b[38;5;34m237,523\u001b[0m (927.82 KB)\n"
      ]
     },
     "metadata": {},
     "output_type": "display_data"
    },
    {
     "data": {
      "text/html": [
       "<pre style=\"white-space:pre;overflow-x:auto;line-height:normal;font-family:Menlo,'DejaVu Sans Mono',consolas,'Courier New',monospace\"><span style=\"font-weight: bold\"> Non-trainable params: </span><span style=\"color: #00af00; text-decoration-color: #00af00\">0</span> (0.00 B)\n",
       "</pre>\n"
      ],
      "text/plain": [
       "\u001b[1m Non-trainable params: \u001b[0m\u001b[38;5;34m0\u001b[0m (0.00 B)\n"
      ]
     },
     "metadata": {},
     "output_type": "display_data"
    }
   ],
   "source": [
    "# Membuat model NCF\n",
    "embedding_size = 50\n",
    "model = build_ncf_model(num_users, num_items, embedding_size)\n",
    "print(\"Model NCF berhasil dibuat.\")\n",
    "model.summary()\n"
   ]
  },
  {
   "cell_type": "code",
   "execution_count": 430,
   "metadata": {},
   "outputs": [
    {
     "name": "stdout",
     "output_type": "stream",
     "text": [
      "Mulai melatih model NCF...\n",
      "Epoch 1/100\n",
      "\u001b[1m 1/18\u001b[0m \u001b[32m━\u001b[0m\u001b[37m━━━━━━━━━━━━━━━━━━━\u001b[0m \u001b[1m11s\u001b[0m 679ms/step - loss: 11.3187 - within_threshold_accuracy: 0.0000e+00\n",
      "Epoch 1: val_loss improved from inf to 4.22159, saving model to best_ncf_model.keras\n",
      "\u001b[1m18/18\u001b[0m \u001b[32m━━━━━━━━━━━━━━━━━━━━\u001b[0m\u001b[37m\u001b[0m \u001b[1m1s\u001b[0m 11ms/step - loss: 9.9280 - within_threshold_accuracy: 0.0061 - val_loss: 4.2216 - val_within_threshold_accuracy: 0.2667\n",
      "Epoch 2/100\n",
      "\u001b[1m 1/18\u001b[0m \u001b[32m━\u001b[0m\u001b[37m━━━━━━━━━━━━━━━━━━━\u001b[0m \u001b[1m0s\u001b[0m 24ms/step - loss: 4.0074 - within_threshold_accuracy: 0.1562\n",
      "Epoch 2: val_loss improved from 4.22159 to 1.43673, saving model to best_ncf_model.keras\n",
      "\u001b[1m18/18\u001b[0m \u001b[32m━━━━━━━━━━━━━━━━━━━━\u001b[0m\u001b[37m\u001b[0m \u001b[1m0s\u001b[0m 5ms/step - loss: 2.4482 - within_threshold_accuracy: 0.4752 - val_loss: 1.4367 - val_within_threshold_accuracy: 0.5767\n",
      "Epoch 3/100\n",
      "\u001b[1m 1/18\u001b[0m \u001b[32m━\u001b[0m\u001b[37m━━━━━━━━━━━━━━━━━━━\u001b[0m \u001b[1m0s\u001b[0m 17ms/step - loss: 1.2127 - within_threshold_accuracy: 0.6719\n",
      "Epoch 3: val_loss improved from 1.43673 to 1.41194, saving model to best_ncf_model.keras\n",
      "\u001b[1m18/18\u001b[0m \u001b[32m━━━━━━━━━━━━━━━━━━━━\u001b[0m\u001b[37m\u001b[0m \u001b[1m0s\u001b[0m 5ms/step - loss: 1.2812 - within_threshold_accuracy: 0.7511 - val_loss: 1.4119 - val_within_threshold_accuracy: 0.6410\n",
      "Epoch 4/100\n",
      "\u001b[1m 1/18\u001b[0m \u001b[32m━\u001b[0m\u001b[37m━━━━━━━━━━━━━━━━━━━\u001b[0m \u001b[1m0s\u001b[0m 22ms/step - loss: 0.9252 - within_threshold_accuracy: 0.7812\n",
      "Epoch 4: val_loss did not improve from 1.41194\n",
      "\u001b[1m18/18\u001b[0m \u001b[32m━━━━━━━━━━━━━━━━━━━━\u001b[0m\u001b[37m\u001b[0m \u001b[1m0s\u001b[0m 3ms/step - loss: 0.9591 - within_threshold_accuracy: 0.7648 - val_loss: 1.4443 - val_within_threshold_accuracy: 0.7056\n",
      "Epoch 5/100\n",
      "\u001b[1m 1/18\u001b[0m \u001b[32m━\u001b[0m\u001b[37m━━━━━━━━━━━━━━━━━━━\u001b[0m \u001b[1m0s\u001b[0m 23ms/step - loss: 0.6004 - within_threshold_accuracy: 0.9062\n",
      "Epoch 5: val_loss did not improve from 1.41194\n",
      "\u001b[1m18/18\u001b[0m \u001b[32m━━━━━━━━━━━━━━━━━━━━\u001b[0m\u001b[37m\u001b[0m \u001b[1m0s\u001b[0m 4ms/step - loss: 0.5279 - within_threshold_accuracy: 0.9502 - val_loss: 1.4824 - val_within_threshold_accuracy: 0.6851\n",
      "Epoch 6/100\n",
      "\u001b[1m 1/18\u001b[0m \u001b[32m━\u001b[0m\u001b[37m━━━━━━━━━━━━━━━━━━━\u001b[0m \u001b[1m0s\u001b[0m 25ms/step - loss: 0.3541 - within_threshold_accuracy: 1.0000\n",
      "Epoch 6: val_loss did not improve from 1.41194\n",
      "\u001b[1m18/18\u001b[0m \u001b[32m━━━━━━━━━━━━━━━━━━━━\u001b[0m\u001b[37m\u001b[0m \u001b[1m0s\u001b[0m 3ms/step - loss: 0.3720 - within_threshold_accuracy: 0.9988 - val_loss: 1.4654 - val_within_threshold_accuracy: 0.6694\n",
      "Epoch 7/100\n",
      "\u001b[1m 1/18\u001b[0m \u001b[32m━\u001b[0m\u001b[37m━━━━━━━━━━━━━━━━━━━\u001b[0m \u001b[1m0s\u001b[0m 26ms/step - loss: 0.3445 - within_threshold_accuracy: 1.0000\n",
      "Epoch 7: val_loss did not improve from 1.41194\n",
      "\u001b[1m18/18\u001b[0m \u001b[32m━━━━━━━━━━━━━━━━━━━━\u001b[0m\u001b[37m\u001b[0m \u001b[1m0s\u001b[0m 3ms/step - loss: 0.3537 - within_threshold_accuracy: 1.0000 - val_loss: 1.4507 - val_within_threshold_accuracy: 0.6757\n",
      "Epoch 8/100\n",
      "\u001b[1m 1/18\u001b[0m \u001b[32m━\u001b[0m\u001b[37m━━━━━━━━━━━━━━━━━━━\u001b[0m \u001b[1m0s\u001b[0m 24ms/step - loss: 0.3370 - within_threshold_accuracy: 1.0000\n",
      "Epoch 8: val_loss did not improve from 1.41194\n",
      "\u001b[1m18/18\u001b[0m \u001b[32m━━━━━━━━━━━━━━━━━━━━\u001b[0m\u001b[37m\u001b[0m \u001b[1m0s\u001b[0m 3ms/step - loss: 0.3559 - within_threshold_accuracy: 1.0000 - val_loss: 1.6210 - val_within_threshold_accuracy: 0.7556\n",
      "Pelatihan model NCF selesai.\n"
     ]
    }
   ],
   "source": [
    "# Melatih model NCF\n",
    "print(\"Mulai melatih model NCF...\")\n",
    "history = model.fit(\n",
    "    [train['userID'], train['itemID']],\n",
    "    train['rating'],\n",
    "    epochs=100,\n",
    "    batch_size=64,\n",
    "    validation_split=0.2,\n",
    "    callbacks=[early_stopping, model_checkpoint],\n",
    "    verbose=1\n",
    ")\n",
    "print(\"Pelatihan model NCF selesai.\")\n"
   ]
  },
  {
   "cell_type": "code",
   "execution_count": 431,
   "metadata": {},
   "outputs": [
    {
     "name": "stdout",
     "output_type": "stream",
     "text": [
      "Mean Squared Error (MSE) pada data test: 1.3880\n",
      "Akurasi Kustom pada data test: 64.28%\n"
     ]
    }
   ],
   "source": [
    "# Evaluasi model\n",
    "evaluation = model.evaluate([test['userID'], test['itemID']], test['rating'], verbose=0)\n",
    "print(f\"Mean Squared Error (MSE) pada data test: {evaluation[0]:.4f}\")\n",
    "print(f\"Akurasi Kustom pada data test: {evaluation[1]*100:.2f}%\")\n"
   ]
  },
  {
   "cell_type": "code",
   "execution_count": 432,
   "metadata": {},
   "outputs": [],
   "source": [
    "# Fungsi untuk plot Training vs Validation Loss dan Accuracy\n",
    "def plot_training_history(history):\n",
    "    plt.style.use('ggplot')  # Gaya plot yang lebih menarik\n",
    "    \n",
    "    plt.figure(figsize=(14, 6))\n",
    "    \n",
    "    # Plot Loss\n",
    "    plt.subplot(1, 2, 1)\n",
    "    plt.plot(history.history['loss'], label='Training Loss', color='blue')\n",
    "    plt.plot(history.history['val_loss'], label='Validation Loss', color='orange', linestyle='--')\n",
    "    plt.title('Training vs Validation Loss')\n",
    "    plt.xlabel('Epochs')\n",
    "    plt.ylabel('Mean Squared Error (MSE)')\n",
    "    plt.legend()\n",
    "    \n",
    "    # Plot Accuracy\n",
    "    plt.subplot(1, 2, 2)\n",
    "    plt.plot(history.history['within_threshold_accuracy'], label='Training Accuracy', color='green')\n",
    "    plt.plot(history.history['val_within_threshold_accuracy'], label='Validation Accuracy', color='red', linestyle='--')\n",
    "    plt.title('Training vs Validation Accuracy')\n",
    "    plt.xlabel('Epochs')\n",
    "    plt.ylabel('Accuracy (%)')\n",
    "    plt.legend()\n",
    "    \n",
    "    plt.tight_layout()\n",
    "    plt.savefig(\"training_validation_loss_accuracy_ncf.png\")\n",
    "    print(\"Plot Training vs Validation Loss and Accuracy berhasil dibuat dan disimpan sebagai 'training_validation_loss_accuracy_ncf.png'.\")\n",
    "    plt.show()\n"
   ]
  },
  {
   "cell_type": "code",
   "execution_count": 433,
   "metadata": {},
   "outputs": [
    {
     "name": "stdout",
     "output_type": "stream",
     "text": [
      "Plot Training vs Validation Loss and Accuracy berhasil dibuat dan disimpan sebagai 'training_validation_loss_accuracy_ncf.png'.\n"
     ]
    },
    {
     "data": {
      "image/png": "[encoded data removed]",
      "text/plain": [
       "<Figure size 1400x600 with 2 Axes>"
      ]
     },
     "metadata": {},
     "output_type": "display_data"
    }
   ],
   "source": [
    "# Membuat grafik Training vs Validation Loss dan Accuracy\n",
    "plot_training_history(history)\n"
   ]
  },
  {
   "cell_type": "code",
   "execution_count": 434,
   "metadata": {},
   "outputs": [
    {
     "name": "stdout",
     "output_type": "stream",
     "text": [
      "Model NCF, LabelEncoders, dan Item Types berhasil disimpan!\n"
     ]
    }
   ],
   "source": [
    "# Menyimpan model dan preprocessing tools\n",
    "model.save(\"../../app/models/ncf_model.keras\")\n",
    "joblib.dump(user_encoder, '../../app/models/user_encoder.pkl')  # Menyimpan LabelEncoder untuk user\n",
    "joblib.dump(item_encoder, '../../app/models/item_encoder.pkl')  # Menyimpan LabelEncoder untuk item\n",
    "joblib.dump(item_types, '../../app/models/item_types.pkl')      # Menyimpan mapping itemID ke type\n",
    "\n",
    "print(\"Model NCF, LabelEncoders, dan Item Types berhasil disimpan!\")\n"
   ]
  },
  {
   "cell_type": "code",
   "execution_count": 435,
   "metadata": {},
   "outputs": [],
   "source": [
    "# %%\n",
    "# Fungsi untuk menghasilkan rekomendasi dengan jumlah item 5-10 dan berbagai jenis\n",
    "def generate_recommendations_ncf_varied(user_emotions, min_n=5, max_n=10):\n",
    "    \"\"\"\n",
    "    Menghasilkan rekomendasi antara min_n dan max_n item dengan berbagai jenis.\n",
    "    \n",
    "    Parameters:\n",
    "    - user_emotions: List emosi dominan pengguna\n",
    "    - min_n: Jumlah minimal rekomendasi\n",
    "    - max_n: Jumlah maksimal rekomendasi\n",
    "    \"\"\"\n",
    "    print(f\"Memulai rekomendasi dengan emosi dominan: {user_emotions}\")\n",
    "    \n",
    "    # Tetapkan bobot emosi\n",
    "    if any(emotion.lower() in [\"gembira\", \"bahagia\", \"senang\"] for emotion in user_emotions):\n",
    "        # Emosi positif, preferensi tinggi\n",
    "        rating_multiplier = 1.2\n",
    "    elif any(emotion.lower() in [\"marah\", \"kesal\", \"sedih\"] for emotion in user_emotions):\n",
    "        # Emosi negatif, preferensi rendah\n",
    "        rating_multiplier = 0.8\n",
    "    else:\n",
    "        # Emosi netral\n",
    "        rating_multiplier = 1.0\n",
    "    \n",
    "    print(f\"Rating multiplier berdasarkan emosi: {rating_multiplier}\")\n",
    "    \n",
    "    # Cari entri yang cocok dengan emosi dominan\n",
    "    matching_entries = [\n",
    "        entry for entry in data \n",
    "        if any(emotion.lower() in [e.lower() for e in entry.get(\"emotionDominant\", [])] for emotion in user_emotions)\n",
    "    ]\n",
    "    msg_emotions = [entry.get(\"msgEmotion\", \"\") for entry in matching_entries]\n",
    "    \n",
    "    if msg_emotions:\n",
    "        # Pilih msgEmotion yang paling sering muncul\n",
    "        msg_emotion = max(set(msg_emotions), key=msg_emotions.count)\n",
    "    else:\n",
    "        msg_emotion = \"Tidak ada data pengguna. Berikut adalah rekomendasi teratas berdasarkan rating tertinggi dan beberapa rekomendasi acak.\"\n",
    "    \n",
    "    if matching_entries:\n",
    "        # Pilih pengguna yang pertama kali cocok\n",
    "        user_id = matching_entries[0].get(\"userID\")\n",
    "    else:\n",
    "        # Jika tidak ada pengguna yang cocok, pilih pengguna secara acak\n",
    "        user_id = random.choice(all_user_ids)\n",
    "        print(\"Tidak ada pengguna yang cocok dengan emosi dominan. Menggunakan pengguna secara acak.\")\n",
    "    \n",
    "    # Encode user_id\n",
    "    try:\n",
    "        user_id_num = user_encoder.transform([user_id])[0]\n",
    "    except ValueError:\n",
    "        print(f\"User ID '{user_id}' tidak dikenali oleh user_encoder.\")\n",
    "        return {\n",
    "            \"msgEmotion\": \"Emosi tidak dikenali\",\n",
    "            \"recommendation\": []\n",
    "        }\n",
    "    \n",
    "    print(f\"User ID yang dipilih: {user_id} (encoded: {user_id_num})\")\n",
    "    \n",
    "    # Mendapatkan semua item yang belum pernah diinteraksi oleh user\n",
    "    user_data = df[df['userID'] == user_id_num]\n",
    "    interacted_items = user_data['itemID'].values\n",
    "    all_items = np.arange(num_items)\n",
    "    items_to_predict = np.setdiff1d(all_items, interacted_items)\n",
    "    \n",
    "    print(f\"Total item yang akan diprediksi ratingnya: {len(items_to_predict)}\")\n",
    "    \n",
    "    # Membuat input untuk model\n",
    "    user_input_array = np.full(len(items_to_predict), user_id_num)\n",
    "    item_input_array = items_to_predict\n",
    "    \n",
    "    # Prediksi rating\n",
    "    predicted_ratings = model.predict([user_input_array, item_input_array], verbose=0).flatten()\n",
    "    \n",
    "    # Membuat DataFrame dengan itemID dan prediksi rating\n",
    "    predictions_df = pd.DataFrame({\n",
    "        'itemID': items_to_predict,\n",
    "        'predicted_rating': predicted_ratings\n",
    "    })\n",
    "    \n",
    "    # Normalisasi prediksi rating berdasarkan type\n",
    "    predictions_df['type'] = predictions_df['itemID'].map(item_types)\n",
    "    predictions_df['normalized_predicted_rating'] = predictions_df.apply(\n",
    "        lambda row: row['predicted_rating'] * rating_multiplier / type_max_rating.get(row['type'], 1),\n",
    "        axis=1\n",
    "    )\n",
    "    \n",
    "    # Sort berdasarkan normalized_predicted_rating\n",
    "    predictions_df = predictions_df.sort_values(by='normalized_predicted_rating', ascending=False)\n",
    "    \n",
    "    # Randomly choose a number of recommendations between min_n and max_n\n",
    "    num_recs = random.randint(min_n, max_n)\n",
    "    print(f\"Jumlah rekomendasi yang akan dibuat: {num_recs}\")\n",
    "    \n",
    "    # Inisialisasi rekomendasi dan jenis yang sudah dipilih\n",
    "    recommended_items = []\n",
    "    selected_types = set()\n",
    "    \n",
    "    for _, row in predictions_df.iterrows():\n",
    "        item_id = row['itemID']\n",
    "        item_type = row['type']\n",
    "        # Cek apakah jenis ini sudah cukup terwakili\n",
    "        if item_type not in selected_types:\n",
    "            try:\n",
    "                item_title = item_encoder.inverse_transform([int(item_id)])[0]\n",
    "            except ValueError:\n",
    "                print(f\"Item ID {item_id} tidak dikenali oleh item_encoder.\")\n",
    "                continue\n",
    "            # Cari detail item dari dataset\n",
    "            for entry in data:\n",
    "                for rec in entry.get('recommendation', []):\n",
    "                    if rec.get(\"title\") == item_title:\n",
    "                        recommended_items.append({\n",
    "                            \"title\": rec.get(\"title\", \"\"),\n",
    "                            \"image\": rec.get(\"image\", \"\"),\n",
    "                            \"desc\": rec.get(\"desc\", \"\"),\n",
    "                            \"type\": rec.get(\"type\", \"\")\n",
    "                        })\n",
    "                        selected_types.add(item_type)\n",
    "                        print(f\"Rekomendasi ditambahkan: {item_title} (type: {item_type})\")\n",
    "                        break\n",
    "                if len(recommended_items) >= num_recs:\n",
    "                    break\n",
    "            if len(recommended_items) >= num_recs:\n",
    "                break\n",
    "    \n",
    "    # Jika belum mencapai jumlah rekomendasi yang diinginkan, tambahkan item berdasarkan rating tanpa memperhatikan jenis\n",
    "    if len(recommended_items) < num_recs:\n",
    "        remaining_recs = num_recs - len(recommended_items)\n",
    "        print(f\"Menambahkan {remaining_recs} rekomendasi tambahan berdasarkan rating.\")\n",
    "        for _, row in predictions_df.iterrows():\n",
    "            item_id = row['itemID']\n",
    "            item_type = row['type']\n",
    "            try:\n",
    "                item_title = item_encoder.inverse_transform([int(item_id)])[0]\n",
    "            except ValueError:\n",
    "                continue\n",
    "            # Cek apakah item sudah direkomendasikan\n",
    "            if any(rec['title'] == item_title for rec in recommended_items):\n",
    "                continue\n",
    "            # Tambahkan item\n",
    "            for entry in data:\n",
    "                for rec in entry.get('recommendation', []):\n",
    "                    if rec.get(\"title\") == item_title:\n",
    "                        recommended_items.append({\n",
    "                            \"title\": rec.get(\"title\", \"\"),\n",
    "                            \"image\": rec.get(\"image\", \"\"),\n",
    "                            \"desc\": rec.get(\"desc\", \"\"),\n",
    "                            \"type\": rec.get(\"type\", \"\")\n",
    "                        })\n",
    "                        print(f\"Rekomendasi tambahan ditambahkan: {item_title} (type: {item_type})\")\n",
    "                        break\n",
    "                if len(recommended_items) >= num_recs:\n",
    "                    break\n",
    "            if len(recommended_items) >= num_recs:\n",
    "                break\n",
    "    \n",
    "    print(f\"Total rekomendasi yang dikembalikan: {len(recommended_items)}\")\n",
    "    return {\n",
    "        \"msgEmotion\": msg_emotion,\n",
    "        \"recommendation\": recommended_items[:num_recs]\n",
    "    }\n"
   ]
  },
  {
   "cell_type": "code",
   "execution_count": 436,
   "metadata": {},
   "outputs": [
    {
     "name": "stdout",
     "output_type": "stream",
     "text": [
      "Memulai rekomendasi dengan emosi dominan: ['Sedih', 'Kesal', 'Marah']\n",
      "Rating multiplier berdasarkan emosi: 0.8\n",
      "User ID yang dipilih: APXU1OXFQEYLWGXDMUJ33X (encoded: 1625)\n",
      "Total item yang akan diprediksi ratingnya: 1697\n",
      "Jumlah rekomendasi yang akan dibuat: 5\n",
      "Rekomendasi ditambahkan: Pantai Patihan (type: destinasi)\n",
      "Rekomendasi ditambahkan: Badai Pasti Berlalu (type: buku)\n",
      "Rekomendasi ditambahkan: Badai Pasti Berlalu (type: buku)\n",
      "Menambahkan 2 rekomendasi tambahan berdasarkan rating.\n",
      "Rekomendasi tambahan ditambahkan: Pantai Sanglen (type: destinasi)\n",
      "Rekomendasi tambahan ditambahkan: Tebing Breksi (type: destinasi)\n",
      "Total rekomendasi yang dikembalikan: 5\n",
      "\n",
      "Pesan Emosi:\n",
      "Kamu Ada sesuatu yang mengganggu, membuat hati menjadi kesal. dan Kekhawatiran tentang sesuatu yang belum pasti mengganggu pikiran. dan Ide-ide baru bermunculan, memberi dorongan untuk bergerak maju.\n"
     ]
    },
    {
     "data": {
      "text/html": [
       "<div>\n",
       "<style scoped>\n",
       "    .dataframe tbody tr th:only-of-type {\n",
       "        vertical-align: middle;\n",
       "    }\n",
       "\n",
       "    .dataframe tbody tr th {\n",
       "        vertical-align: top;\n",
       "    }\n",
       "\n",
       "    .dataframe thead th {\n",
       "        text-align: right;\n",
       "    }\n",
       "</style>\n",
       "<table border=\"1\" class=\"dataframe\">\n",
       "  <thead>\n",
       "    <tr style=\"text-align: right;\">\n",
       "      <th></th>\n",
       "      <th>title</th>\n",
       "      <th>image</th>\n",
       "      <th>desc</th>\n",
       "      <th>type</th>\n",
       "    </tr>\n",
       "  </thead>\n",
       "  <tbody>\n",
       "    <tr>\n",
       "      <th>0</th>\n",
       "      <td>Pantai Patihan</td>\n",
       "      <td>https://picsum.photos/seed/514/200/300</td>\n",
       "      <td>Pantai ini terletak di daerah Srigading, Sande...</td>\n",
       "      <td>destinasi</td>\n",
       "    </tr>\n",
       "    <tr>\n",
       "      <th>1</th>\n",
       "      <td>Badai Pasti Berlalu</td>\n",
       "      <td>https://picsum.photos/seed/802/200/300</td>\n",
       "      <td>The story of a brokenhearted woman who becomes...</td>\n",
       "      <td>buku</td>\n",
       "    </tr>\n",
       "    <tr>\n",
       "      <th>2</th>\n",
       "      <td>Badai Pasti Berlalu</td>\n",
       "      <td>https://picsum.photos/seed/815/200/300</td>\n",
       "      <td>Based on the famous novel, this is a story abo...</td>\n",
       "      <td>buku</td>\n",
       "    </tr>\n",
       "    <tr>\n",
       "      <th>3</th>\n",
       "      <td>Pantai Sanglen</td>\n",
       "      <td>https://picsum.photos/seed/759/200/300</td>\n",
       "      <td>Pantai Sanglen. Lokasinya berada di Desa Kemad...</td>\n",
       "      <td>destinasi</td>\n",
       "    </tr>\n",
       "    <tr>\n",
       "      <th>4</th>\n",
       "      <td>Tebing Breksi</td>\n",
       "      <td>https://picsum.photos/seed/899/200/300</td>\n",
       "      <td>Tebing Breksi merupakan tempat wisata yang ber...</td>\n",
       "      <td>destinasi</td>\n",
       "    </tr>\n",
       "  </tbody>\n",
       "</table>\n",
       "</div>"
      ],
      "text/plain": [
       "                 title                                   image  \\\n",
       "0       Pantai Patihan  https://picsum.photos/seed/514/200/300   \n",
       "1  Badai Pasti Berlalu  https://picsum.photos/seed/802/200/300   \n",
       "2  Badai Pasti Berlalu  https://picsum.photos/seed/815/200/300   \n",
       "3       Pantai Sanglen  https://picsum.photos/seed/759/200/300   \n",
       "4        Tebing Breksi  https://picsum.photos/seed/899/200/300   \n",
       "\n",
       "                                                desc       type  \n",
       "0  Pantai ini terletak di daerah Srigading, Sande...  destinasi  \n",
       "1  The story of a brokenhearted woman who becomes...       buku  \n",
       "2  Based on the famous novel, this is a story abo...       buku  \n",
       "3  Pantai Sanglen. Lokasinya berada di Desa Kemad...  destinasi  \n",
       "4  Tebing Breksi merupakan tempat wisata yang ber...  destinasi  "
      ]
     },
     "metadata": {},
     "output_type": "display_data"
    }
   ],
   "source": [
    "# Contoh Penggunaan Fungsi generate_recommendations_ncf_diversified\n",
    "# Misalnya, emosi dominan adalah \"Senang\", \"Bahagia\", dan \"Terharu\"\n",
    "emotion_input = [\"Sedih\", \"Kesal\", \"Marah\"]\n",
    "user_recommendations = generate_recommendations_ncf_varied(emotion_input, min_n=5, max_n=5)\n",
    "\n",
    "# Menampilkan pesan emosi\n",
    "print(\"\\nPesan Emosi:\")\n",
    "print(user_recommendations[\"msgEmotion\"])\n",
    "\n",
    "# Display the recommendations in a tabular format menggunakan IPython display\n",
    "try:\n",
    "    # Create DataFrame for recommendations\n",
    "    df_rekom = pd.DataFrame(user_recommendations[\"recommendation\"])[['title', 'image', 'desc', 'type']]\n",
    "    \n",
    "    # Display the DataFrame in a tabular format\n",
    "    display(df_rekom)\n",
    "except KeyError as e:\n",
    "    print(f\"Kesalahan dalam membuat DataFrame rekomendasi: {e}\")\n",
    "    print(\"Isi Rekomendasi:\", user_recommendations.get(\"recommendation\", []))\n"
   ]
  },
  {
   "cell_type": "code",
   "execution_count": 437,
   "metadata": {},
   "outputs": [
    {
     "name": "stdout",
     "output_type": "stream",
     "text": [
      "Plot distribusi tipe item dalam rekomendasi berhasil dibuat dan disimpan sebagai 'recommendation_types_distribution_ncf.png'.\n"
     ]
    },
    {
     "data": {
      "image/png": "[encoded data removed]",
      "text/plain": [
       "<Figure size 1200x800 with 1 Axes>"
      ]
     },
     "metadata": {},
     "output_type": "display_data"
    }
   ],
   "source": [
    "# Visualisasi Rekomendasi\n",
    "def visualize_recommendations(recommendations):\n",
    "    plt.figure(figsize=(12, 8))\n",
    "    types = [item['type'] for item in recommendations]\n",
    "    sns.countplot(x=types)\n",
    "    plt.title('Distribusi Tipe Item dalam Rekomendasi')\n",
    "    plt.xlabel('Tipe Item')\n",
    "    plt.ylabel('Jumlah Rekomendasi')\n",
    "    plt.savefig(\"recommendation_types_distribution_ncf.png\")\n",
    "    print(\"Plot distribusi tipe item dalam rekomendasi berhasil dibuat dan disimpan sebagai 'recommendation_types_distribution_ncf.png'.\")\n",
    "    plt.show()\n",
    "\n",
    "visualize_recommendations(user_recommendations[\"recommendation\"])\n"
   ]
  },
  {
   "cell_type": "code",
   "execution_count": 438,
   "metadata": {},
   "outputs": [
    {
     "name": "stdout",
     "output_type": "stream",
     "text": [
      "Rekomendasi berhasil disimpan ke recommendations_ncf.json.\n"
     ]
    }
   ],
   "source": [
    "# Menyimpan rekomendasi ke File JSON\n",
    "def save_recommendations(recommendations, filename=\"recommendations_ncf.json\"):\n",
    "    with open(filename, 'w', encoding='utf-8') as f:\n",
    "        json.dump(recommendations, f, ensure_ascii=False, indent=4)\n",
    "    print(f\"Rekomendasi berhasil disimpan ke {filename}.\")\n",
    "\n",
    "save_recommendations(user_recommendations)\n"
   ]
  },
  {
   "cell_type": "code",
   "execution_count": 439,
   "metadata": {},
   "outputs": [
    {
     "name": "stdout",
     "output_type": "stream",
     "text": [
      "Plot distribusi rating per tipe item berhasil dibuat dan disimpan sebagai 'rating_per_type_ncf.png'.\n"
     ]
    },
    {
     "data": {
      "image/png": "[encoded data removed]",
      "text/plain": [
       "<Figure size 800x600 with 1 Axes>"
      ]
     },
     "metadata": {},
     "output_type": "display_data"
    }
   ],
   "source": [
    "# Analisis Tambahan: Distribusi Rating per Tipe Item\n",
    "plt.figure(figsize=(8,6))\n",
    "sns.boxplot(x='type', y='rating', data=df_item_ratings)\n",
    "plt.title('Distribusi Rating per Tipe Item')\n",
    "plt.xlabel('Tipe Item')\n",
    "plt.ylabel('Rating Rata-rata')\n",
    "plt.savefig(\"rating_per_type_ncf.png\")\n",
    "print(\"Plot distribusi rating per tipe item berhasil dibuat dan disimpan sebagai 'rating_per_type_ncf.png'.\")\n",
    "plt.show()\n"
   ]
  }
 ],
 "metadata": {
  "language_info": {
   "codemirror_mode": {
    "name": "ipython",
    "version": 3
   },
   "file_extension": ".py",
   "mimetype": "text/x-python",
   "name": "python",
   "nbconvert_exporter": "python",
   "pygments_lexer": "ipython3",
   "version": 3
  }
 },
 "nbformat": 4,
 "nbformat_minor": 2
}
