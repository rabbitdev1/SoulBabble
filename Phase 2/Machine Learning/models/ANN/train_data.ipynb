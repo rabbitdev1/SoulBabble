{
 "cells": [
  {
   "cell_type": "code",
   "execution_count": null,
   "metadata": {},
   "outputs": [],
   "source": [
    "import pandas as pd\n",
    "from sklearn.model_selection import train_test_split\n",
    "from sklearn.preprocessing import LabelEncoder\n",
    "from sklearn.feature_extraction.text import TfidfVectorizer\n",
    "from sklearn.metrics import classification_report\n",
    "from tensorflow.keras.models import Sequential\n",
    "from tensorflow.keras.layers import Dense, Dropout, Input\n",
    "from tensorflow.keras.optimizers import Adam\n",
    "from keras.callbacks import EarlyStopping\n",
    "import joblib\n",
    "import re\n",
    "import nltk\n",
    "import tensorflow as tf\n",
    "\n",
    "# Unduh stopwords dan wordnet untuk Bahasa Indonesia\n",
    "nltk.download('stopwords')\n",
    "nltk.download('wordnet')\n",
    "\n",
    "from nltk.corpus import stopwords\n",
    "stopwords_indonesia = stopwords.words('indonesian')\n",
    "from nltk.stem import WordNetLemmatizer\n",
    "\n",
    "# Pastikan TensorFlow sudah terinstal dengan benar\n",
    "print(tf.__version__)"
   ]
  },
  {
   "cell_type": "code",
   "execution_count": null,
   "metadata": {},
   "outputs": [],
   "source": [
    "data = pd.read_csv('../../models/ANN/data_set.csv')\n",
    "\n",
    "# Menampilkan data pertama untuk memastikan formatnya\n",
    "print(f\"Jumlah data: {data.shape[0]} baris dan {data.shape[1]} kolom\")\n",
    "print(data.head())\n",
    "\n",
    "# Memastikan tidak ada nilai NaN atau duplikat di dalam dataset\n",
    "print(f\"Data yang memiliki nilai NaN setelah pembersihan: \\n{data.isnull().sum()}\")"
   ]
  },
  {
   "cell_type": "code",
   "execution_count": null,
   "metadata": {},
   "outputs": [],
   "source": [
    "# Menggabungkan Level_Emosi, Tipe_Emosi, dan Sumber_Emosi menjadi satu kolom input\n",
    "data['Input_Text'] = data['Level_Emosi'] + \" \" + data['Tipe_Emosi'] + \" \" + data['Sumber_Emosi']\n",
    "\n",
    "# Fungsi preprocessing untuk teks bahasa Indonesia\n",
    "lemmatizer = WordNetLemmatizer()\n",
    "\n",
    "def preprocess_text(text):\n",
    "    # Menghapus karakter yang tidak relevan dan menurunkan semua huruf menjadi kecil\n",
    "    text = re.sub(r'[^a-zA-Z\\s]', '', text.lower())\n",
    "    # Menghapus stopwords dan melakukan lemmatization\n",
    "    text = ' '.join([lemmatizer.lemmatize(word) for word in text.split() if word not in stopwords_indonesia])\n",
    "    return text\n",
    "\n",
    "# Terapkan preprocessing ke kolom Input_Text\n",
    "data['Input_Text'] = data['Input_Text'].apply(preprocess_text)"
   ]
  },
  {
   "cell_type": "code",
   "execution_count": null,
   "metadata": {},
   "outputs": [],
   "source": [
    "vectorizer = TfidfVectorizer(max_features=2000, ngram_range=(1, 2), stop_words=stopwords_indonesia)\n",
    "X = vectorizer.fit_transform(data['Input_Text']).toarray()"
   ]
  },
  {
   "cell_type": "code",
   "execution_count": null,
   "metadata": {},
   "outputs": [],
   "source": [
    "label_encoder = LabelEncoder()\n",
    "y = label_encoder.fit_transform(data['Pertanyaan_Analisis'])  # Target yang ingin diprediksi (pertanyaan analisis)\n",
    "\n",
    "# Cek distribusi kelas\n",
    "print(\"Distribusi kelas (Pertanyaan_Analisis):\")\n",
    "print(data['Pertanyaan_Analisis'].value_counts())"
   ]
  },
  {
   "cell_type": "code",
   "execution_count": null,
   "metadata": {},
   "outputs": [],
   "source": [
    "# Temukan kelas yang hanya memiliki satu data\n",
    "kelas_jarang = data['Pertanyaan_Analisis'].value_counts()[data['Pertanyaan_Analisis'].value_counts() == 1].index\n",
    "\n",
    "# Hapus kelas tersebut dari data\n",
    "data = data[~data['Pertanyaan_Analisis'].isin(kelas_jarang)]\n",
    "\n",
    "# Cek kembali distribusi kelas setelah penghapusan\n",
    "print(\"\\nDistribusi kelas setelah menghapus kelas dengan satu data:\")\n",
    "print(data['Pertanyaan_Analisis'].value_counts())"
   ]
  },
  {
   "cell_type": "code",
   "execution_count": null,
   "metadata": {},
   "outputs": [],
   "source": [
    "\n",
    "# Cek distribusi kelas setelah pembersihan\n",
    "kelas_baru = data['Pertanyaan_Analisis'].value_counts()\n",
    "\n",
    "# Hapus kelas yang memiliki hanya satu data (jika ada)\n",
    "kelas_jarang = kelas_baru[kelas_baru == 1].index\n",
    "if len(kelas_jarang) > 0:\n",
    "    print(f\"Kelas yang memiliki hanya satu data: {kelas_jarang}\")\n",
    "    # Gabungkan kelas yang hanya memiliki satu data menjadi satu kelas baru: 'Lainnya'\n",
    "    data['Pertanyaan_Analisis'] = data['Pertanyaan_Analisis'].replace(kelas_jarang, 'Lainnya')\n",
    "\n",
    "# Cek distribusi kelas setelah penggabungan kelas yang jarang\n",
    "kelas_baru = data['Pertanyaan_Analisis'].value_counts()\n",
    "print(f\"Distribusi kelas setelah penggabungan kelas dengan satu data: \\n{kelas_baru}\")\n",
    "\n",
    "# Pastikan kelas yang tersisa cukup untuk pembagian\n",
    "if kelas_baru.min() < 2:\n",
    "    print(\"Ada kelas yang masih memiliki kurang dari 2 data setelah penggabungan. Pembagian data tidak bisa dilakukan.\")\n",
    "else:\n",
    "    # Pembagian data menggunakan train_test_split dengan stratify untuk menjaga distribusi kelas\n",
    "    X = vectorizer.fit_transform(data['Input_Text']).toarray()\n",
    "    y = label_encoder.fit_transform(data['Pertanyaan_Analisis'])  # Target yang ingin diprediksi (pertanyaan analisis)\n",
    "\n",
    "    test_size = max(0.2, 1460 / len(data))  # Menentukan test_size lebih besar atau sama dengan jumlah kelas\n",
    "\n",
    "    X_train, X_test, y_train, y_test = train_test_split(\n",
    "        X, y, test_size=test_size, random_state=42, stratify=y  # Sesuaikan test_size sesuai dengan jumlah kelas\n",
    "    )\n",
    "\n",
    "    print(\"\\nDistribusi kelas setelah pembagian train dan test:\")\n",
    "    print(pd.Series(y_train).value_counts())\n",
    "    print(pd.Series(y_test).value_counts())"
   ]
  },
  {
   "cell_type": "code",
   "execution_count": null,
   "metadata": {},
   "outputs": [],
   "source": [
    "def build_model(input_shape):\n",
    "    model = Sequential()\n",
    "    model.add(Input(shape=(input_shape,)))  # Menentukan bentuk input berdasarkan jumlah fitur\n",
    "    model.add(Dense(512, activation='relu'))\n",
    "    model.add(Dropout(0.5))\n",
    "    model.add(Dense(256, activation='relu'))\n",
    "    model.add(Dropout(0.5))\n",
    "    model.add(Dense(128, activation='relu'))\n",
    "    model.add(Dense(len(set(y)), activation='softmax'))  # Jumlah kelas (pertanyaan)\n",
    "\n",
    "    model.compile(loss='sparse_categorical_crossentropy', optimizer=Adam(learning_rate=0.001), metrics=['accuracy'])\n",
    "    return model"
   ]
  },
  {
   "cell_type": "code",
   "execution_count": null,
   "metadata": {},
   "outputs": [],
   "source": [
    "early_stopping = EarlyStopping(monitor='val_loss', patience=5, restore_best_weights=True)\n",
    "model = build_model(X_train.shape[1])\n",
    "\n",
    "model.fit(X_train, y_train, epochs=50, batch_size=16, validation_data=(X_test, y_test), callbacks=[early_stopping])"
   ]
  },
  {
   "cell_type": "code",
   "execution_count": null,
   "metadata": {},
   "outputs": [],
   "source": [
    "score = model.evaluate(X_test, y_test)\n",
    "print(f\"Model Accuracy: {score[1]*100:.2f}%\")\n",
    "\n",
    "y_pred = model.predict(X_test).argmax(axis=1)\n",
    "\n",
    "# Identifikasi kelas yang ada dalam y_test dan y_pred\n",
    "y_test_classes = set(y_test)\n",
    "y_pred_classes = set(y_pred)\n",
    "\n",
    "# Cek kelas yang hilang\n",
    "missing_classes = y_test_classes - y_pred_classes\n",
    "print(f\"Kelas yang tidak terdeteksi dalam prediksi: {missing_classes}\")\n",
    "\n",
    "# Sesuaikan target_names dengan kelas yang ada dalam y_test\n",
    "target_names = label_encoder.classes_\n",
    "\n",
    "# Gunakan parameter 'labels' dalam classification_report untuk mengatasi ketidaksesuaian jumlah kelas\n",
    "print(classification_report(y_test, y_pred, target_names=target_names, labels=label_encoder.transform(target_names[:len(y_pred_classes)])))"
   ]
  },
  {
   "cell_type": "code",
   "execution_count": null,
   "metadata": {},
   "outputs": [],
   "source": [
    "model.save(\"../../app/models/emotion_tracking_model.keras\")\n",
    "joblib.dump(vectorizer, '../../app/models/vectorizer.pkl')  # Menyimpan TfidfVectorizer\n",
    "joblib.dump(label_encoder, '../../app/models/label_encoder.pkl')  # Menyimpan LabelEncoder\n",
    "\n",
    "print(\"Model, TfidfVectorizer, dan LabelEncoder berhasil disimpan!\")\n",
    "\n"
   ]
  }
 ],
 "metadata": {
  "kernelspec": {
   "display_name": "venv",
   "language": "python",
   "name": "python3"
  },
  "language_info": {
   "codemirror_mode": {
    "name": "ipython",
    "version": 3
   },
   "file_extension": ".py",
   "mimetype": "text/x-python",
   "name": "python",
   "nbconvert_exporter": "python",
   "pygments_lexer": "ipython3",
   "version": "3.12.4"
  }
 },
 "nbformat": 4,
 "nbformat_minor": 2
}
