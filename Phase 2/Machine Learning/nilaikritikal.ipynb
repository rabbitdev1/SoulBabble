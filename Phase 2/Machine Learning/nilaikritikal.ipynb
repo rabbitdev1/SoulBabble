{
 "cells": [
  {
   "cell_type": "code",
   "execution_count": 21,
   "metadata": {},
   "outputs": [
    {
     "name": "stdout",
     "output_type": "stream",
     "text": [
      "Derajat Kebebasan (df): 86\n",
      "Nilai Kritikal r (r_tabel) pada df=86 dan alpha=0.01: 0.2732\n"
     ]
    }
   ],
   "source": [
    "# Menghitung derajat kebebasan\n",
    "n = 88  # Jumlah pasangan data\n",
    "df = n - 2\n",
    "print(f\"Derajat Kebebasan (df): {df}\")\n",
    "\n",
    "# Menggunakan scipy untuk mendapatkan nilai kritikal r_tabel\n",
    "from scipy.stats import pearsonr, t\n",
    "\n",
    "# Fungsi untuk mendapatkan r_tabel\n",
    "def get_critical_r(df, alpha=0.05):\n",
    "    t_critical = t.ppf(1 - alpha/2, df)\n",
    "    r_critical = t_critical / (t_critical**2 + df)**0.5\n",
    "    return r_critical\n",
    "\n",
    "r_tabel = get_critical_r(df, alpha=0.01)\n",
    "print(f\"Nilai Kritikal r (r_tabel) pada df={df} dan alpha={0.01}: {r_tabel:.4f}\")\n"
   ]
  }
 ],
 "metadata": {
  "kernelspec": {
   "display_name": "venv",
   "language": "python",
   "name": "python3"
  },
  "language_info": {
   "codemirror_mode": {
    "name": "ipython",
    "version": 3
   },
   "file_extension": ".py",
   "mimetype": "text/x-python",
   "name": "python",
   "nbconvert_exporter": "python",
   "pygments_lexer": "ipython3",
   "version": "3.12.4"
  }
 },
 "nbformat": 4,
 "nbformat_minor": 2
}
